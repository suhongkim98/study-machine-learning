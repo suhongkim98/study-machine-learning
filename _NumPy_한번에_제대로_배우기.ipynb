{
  "nbformat": 4,
  "nbformat_minor": 0,
  "metadata": {
    "colab": {
      "name": "_NumPy 한번에 제대로 배우기.ipynb의 사본",
      "provenance": [],
      "collapsed_sections": [],
      "include_colab_link": true
    },
    "kernelspec": {
      "name": "python3",
      "display_name": "Python 3"
    }
  },
  "cells": [
    {
      "cell_type": "markdown",
      "metadata": {
        "id": "view-in-github",
        "colab_type": "text"
      },
      "source": [
        "<a href=\"https://colab.research.google.com/github/suhongkim98/study-machine-learning/blob/main/_NumPy_%ED%95%9C%EB%B2%88%EC%97%90_%EC%A0%9C%EB%8C%80%EB%A1%9C_%EB%B0%B0%EC%9A%B0%EA%B8%B0.ipynb\" target=\"_parent\"><img src=\"https://colab.research.google.com/assets/colab-badge.svg\" alt=\"Open In Colab\"/></a>"
      ]
    },
    {
      "cell_type": "markdown",
      "metadata": {
        "id": "J_FfQuu2Tb30"
      },
      "source": [
        "# NumPy 한번에 제대로 배우기\r\n",
        "* https://youtu.be/mirZPrWwvao 유튜브를 보며 공부한 내용이다.\r\n",
        "* NumPy 최신 업데이트 관련 Docs는 https://numpy.org/ 에서 확인하자"
      ]
    },
    {
      "cell_type": "markdown",
      "metadata": {
        "id": "Zgrrh9T2vs8u"
      },
      "source": [
        "\n",
        "\n",
        "---\n",
        "\n"
      ]
    },
    {
      "cell_type": "markdown",
      "metadata": {
        "id": "oR5hNBH-Retd"
      },
      "source": [
        "## NumPy 특징\n",
        "\n",
        "1.   항목 추가\n",
        "2.   항목 추가\n",
        "\n",
        "\n",
        "\n",
        "* Numerical Python의 약자\n",
        "* 고성능 과학 계산용 패키지로 강력한 N차원 배열 객체\n",
        "* 범용적 데이터 처리에 사용 가능한 다차원 컨테이너\n",
        "* 정교한 브로드캐스팅(broadcasting) 기능\n",
        "* 파이썬의 자료형 list와 비슷하지만, 더 빠르고 메모리를 효율적으로 관리\n",
        "* 반복문 없이 데이터 배열에 대한 처리를 지원하여 빠르고 편리\n",
        "* 데이터 과학 도구에 대한 생태계의 핵심을 이루고 있음"
      ]
    },
    {
      "cell_type": "code",
      "metadata": {
        "id": "R9klTdhLQ564",
        "colab": {
          "base_uri": "https://localhost:8080/",
          "height": 35
        },
        "outputId": "211fa04a-23c2-4d61-b8f5-f046959ef085"
      },
      "source": [
        "import numpy as np\r\n",
        "np.__version__"
      ],
      "execution_count": null,
      "outputs": [
        {
          "output_type": "execute_result",
          "data": {
            "application/vnd.google.colaboratory.intrinsic+json": {
              "type": "string"
            },
            "text/plain": [
              "'1.19.5'"
            ]
          },
          "metadata": {
            "tags": []
          },
          "execution_count": 1
        }
      ]
    },
    {
      "cell_type": "markdown",
      "metadata": {
        "id": "2hSWC5ptGyWP"
      },
      "source": [
        "\n",
        "\n",
        "---\n",
        "\n"
      ]
    },
    {
      "cell_type": "markdown",
      "metadata": {
        "id": "1kgkJZFlVUqk"
      },
      "source": [
        "## 배열 생성"
      ]
    },
    {
      "cell_type": "markdown",
      "metadata": {
        "id": "5eQ4sAkMbzm0"
      },
      "source": [
        "### 리스트로 배열 만들기\n"
      ]
    },
    {
      "cell_type": "code",
      "metadata": {
        "id": "Mtod2jcPWVvV",
        "colab": {
          "base_uri": "https://localhost:8080/"
        },
        "outputId": "a261d343-753f-4661-d769-53a9a6e187d1"
      },
      "source": [
        "a1 = np.array([1, 2, 3, 4, 5]) # 리스트를 이용해 1차원의 np 배열 생성\r\n",
        "print(a1)\r\n",
        "print(type(a1))\r\n",
        "print(a1.shape) # 5개의 갯수를 가진 1차원 배열\r\n",
        "# 우리가 리스트 사용하듯 접근, 수정이 가능하다.\r\n",
        "print(a1[0], a1[1], a1[2], a1[3])\r\n",
        "a1[0] = 4\r\n",
        "a1[1] = 5\r\n",
        "print(a1[0])"
      ],
      "execution_count": null,
      "outputs": [
        {
          "output_type": "stream",
          "text": [
            "[1 2 3 4 5]\n",
            "<class 'numpy.ndarray'>\n",
            "(5,)\n",
            "1 2 3 4\n",
            "4\n"
          ],
          "name": "stdout"
        }
      ]
    },
    {
      "cell_type": "code",
      "metadata": {
        "id": "vp9tkHH8esXT",
        "colab": {
          "base_uri": "https://localhost:8080/"
        },
        "outputId": "0673234d-5403-4ea6-d129-02c7f1d723f3"
      },
      "source": [
        "a2 = np.array([[1,2,3],[4,5,6],[7,8,9]]) # 2차원 배열 생성\r\n",
        "print(a2)\r\n",
        "print(a2.shape)\r\n",
        "#2개의 인덱스로 접근 및 수정이 가능 하다\r\n",
        "print(a2[0,0], a2[1,1], a2[2,2])"
      ],
      "execution_count": null,
      "outputs": [
        {
          "output_type": "stream",
          "text": [
            "[[1 2 3]\n",
            " [4 5 6]\n",
            " [7 8 9]]\n",
            "(3, 3) aab\n",
            "1 5 9\n"
          ],
          "name": "stdout"
        }
      ]
    },
    {
      "cell_type": "markdown",
      "metadata": {
        "id": "RQtGak986IIb"
      },
      "source": [
        ""
      ]
    },
    {
      "cell_type": "code",
      "metadata": {
        "id": "Baj4gZ2meuJu",
        "colab": {
          "base_uri": "https://localhost:8080/"
        },
        "outputId": "991ee5ae-3dc8-4fa0-a8c0-3bd1e7c52318"
      },
      "source": [
        "a3 = np.array([\r\n",
        "    [ [1,2,3],[4,5,6],[7,8,9] ],\r\n",
        "    [ [1,2,3],[4,5,6],[7,8,9] ],\r\n",
        "    [ [1,2,3],[4,5,6],[7,8,9] ],\r\n",
        "     ]) #3차원 배열 생성\r\n",
        "\r\n",
        "print(a3)\r\n",
        "print(a3.shape)"
      ],
      "execution_count": null,
      "outputs": [
        {
          "output_type": "stream",
          "text": [
            "[[[1 2 3]\n",
            "  [4 5 6]\n",
            "  [7 8 9]]\n",
            "\n",
            " [[1 2 3]\n",
            "  [4 5 6]\n",
            "  [7 8 9]]\n",
            "\n",
            " [[1 2 3]\n",
            "  [4 5 6]\n",
            "  [7 8 9]]]\n",
            "(3, 3, 3)\n"
          ],
          "name": "stdout"
        }
      ]
    },
    {
      "cell_type": "markdown",
      "metadata": {
        "id": "PNkKtw4CoSDB"
      },
      "source": [
        "### 배열 생성 및 초기화"
      ]
    },
    {
      "cell_type": "markdown",
      "metadata": {
        "id": "mJVii5p_VfgM"
      },
      "source": [
        "* `zeros()`: 모든 요소를 0으로 초기화"
      ]
    },
    {
      "cell_type": "code",
      "metadata": {
        "id": "W_SF1tVoVTf1",
        "colab": {
          "base_uri": "https://localhost:8080/"
        },
        "outputId": "97ac94f9-9260-4835-8066-09fabc2e9216"
      },
      "source": [
        "np.zeros(10) # 10개의 요소를 0으로 초기화"
      ],
      "execution_count": null,
      "outputs": [
        {
          "output_type": "execute_result",
          "data": {
            "text/plain": [
              "array([0., 0., 0., 0., 0., 0., 0., 0., 0., 0.])"
            ]
          },
          "metadata": {
            "tags": []
          },
          "execution_count": 24
        }
      ]
    },
    {
      "cell_type": "markdown",
      "metadata": {
        "id": "LjYFQrODVqhX"
      },
      "source": [
        "* `ones()`: 모든 요소를 1로 초기화"
      ]
    },
    {
      "cell_type": "code",
      "metadata": {
        "id": "MURoqsMsVeUw",
        "colab": {
          "base_uri": "https://localhost:8080/"
        },
        "outputId": "8908131c-51ad-4184-8444-78d05a79b0d5"
      },
      "source": [
        "np.ones(10) # 10개의 요소를 1로 초기화\r\n",
        "\r\n",
        "np.ones((3,3)) # shape모양을 이용해 배열 초기화도 가능하다."
      ],
      "execution_count": null,
      "outputs": [
        {
          "output_type": "execute_result",
          "data": {
            "text/plain": [
              "array([[1., 1., 1.],\n",
              "       [1., 1., 1.],\n",
              "       [1., 1., 1.]])"
            ]
          },
          "metadata": {
            "tags": []
          },
          "execution_count": 31
        }
      ]
    },
    {
      "cell_type": "markdown",
      "metadata": {
        "id": "jnmm3Cj-cGtx"
      },
      "source": [
        "* `full()`: 모든 요소를 지정한 값으로 초기화"
      ]
    },
    {
      "cell_type": "code",
      "metadata": {
        "id": "oscabrdcV7Ny",
        "colab": {
          "base_uri": "https://localhost:8080/"
        },
        "outputId": "e871b50e-1619-418f-b188-0ea822e107e2"
      },
      "source": [
        "np.full((3,3), 1.23)"
      ],
      "execution_count": null,
      "outputs": [
        {
          "output_type": "execute_result",
          "data": {
            "text/plain": [
              "array([[1.23, 1.23, 1.23],\n",
              "       [1.23, 1.23, 1.23],\n",
              "       [1.23, 1.23, 1.23]])"
            ]
          },
          "metadata": {
            "tags": []
          },
          "execution_count": 33
        }
      ]
    },
    {
      "cell_type": "markdown",
      "metadata": {
        "id": "0SRI4jbmlIKc"
      },
      "source": [
        "* `eye()`: 단위행렬(identity matrix) 생성\n",
        "  + 주대각선의 원소가 모두 1이고 나머지 원소는 모두 0인 정사각 행렬"
      ]
    },
    {
      "cell_type": "code",
      "metadata": {
        "id": "VceBVLLjk9o5",
        "colab": {
          "base_uri": "https://localhost:8080/"
        },
        "outputId": "63ce89cf-e396-498f-df42-05375a639cbb"
      },
      "source": [
        " # 단위행렬은 주 대각선이 1이고 나머지는 0인 정사각형 형태의 특징을 가지고 있다.\r\n",
        "np.eye(3)"
      ],
      "execution_count": null,
      "outputs": [
        {
          "output_type": "execute_result",
          "data": {
            "text/plain": [
              "array([[1., 0., 0.],\n",
              "       [0., 1., 0.],\n",
              "       [0., 0., 1.]])"
            ]
          },
          "metadata": {
            "tags": []
          },
          "execution_count": 35
        }
      ]
    },
    {
      "cell_type": "markdown",
      "metadata": {
        "id": "7CCH1ZMT5R02"
      },
      "source": [
        "* `tri()`: 삼각행렬 생성"
      ]
    },
    {
      "cell_type": "code",
      "metadata": {
        "id": "mLe2Bhj05VYu",
        "colab": {
          "base_uri": "https://localhost:8080/"
        },
        "outputId": "b9830568-53b8-4db5-9c23-c27f30986771"
      },
      "source": [
        "np.tri(3)"
      ],
      "execution_count": null,
      "outputs": [
        {
          "output_type": "execute_result",
          "data": {
            "text/plain": [
              "array([[1., 0., 0.],\n",
              "       [1., 1., 0.],\n",
              "       [1., 1., 1.]])"
            ]
          },
          "metadata": {
            "tags": []
          },
          "execution_count": 36
        }
      ]
    },
    {
      "cell_type": "markdown",
      "metadata": {
        "id": "ObZRA4HclZlO"
      },
      "source": [
        "* `empty()`: 초기화되지 않은 배열 생성\n",
        "  + 초기화가 없어서 배열 생성비용 저렴하고 빠름\n",
        "  + 초기화되지 않아서 기존 메모리 위치에 존재하는 값이 있음"
      ]
    },
    {
      "cell_type": "code",
      "metadata": {
        "id": "I3SoFgiglAkz",
        "colab": {
          "base_uri": "https://localhost:8080/"
        },
        "outputId": "b16da06e-e570-4c90-f8a1-6ec9557fe76a"
      },
      "source": [
        "np.empty(10)"
      ],
      "execution_count": null,
      "outputs": [
        {
          "output_type": "execute_result",
          "data": {
            "text/plain": [
              "array([1., 1., 1., 1., 1., 1., 1., 1., 1., 1.])"
            ]
          },
          "metadata": {
            "tags": []
          },
          "execution_count": 37
        }
      ]
    },
    {
      "cell_type": "markdown",
      "metadata": {
        "id": "p3uSl1Ccmi5_"
      },
      "source": [
        "* `_like()`: 지정된 배열과 shape가 같은 행렬 생성\n",
        "  + `np.zeros_like()`\n",
        "  + `np.ones_like()`\n",
        "  + `np.full_like()`\n",
        "  + `np.empty_like()`"
      ]
    },
    {
      "cell_type": "code",
      "metadata": {
        "id": "Ad5RskRRlZLs",
        "colab": {
          "base_uri": "https://localhost:8080/"
        },
        "outputId": "18845f76-24c1-40b0-ab71-7daed19598f1"
      },
      "source": [
        "print(a1)\r\n",
        "np.zeros_like(a1) # a1과 shape가 같은 0으로 초기화한 배열을 만들어 줭"
      ],
      "execution_count": null,
      "outputs": [
        {
          "output_type": "stream",
          "text": [
            "[4 5 3 4 5]\n"
          ],
          "name": "stdout"
        },
        {
          "output_type": "execute_result",
          "data": {
            "text/plain": [
              "array([0, 0, 0, 0, 0])"
            ]
          },
          "metadata": {
            "tags": []
          },
          "execution_count": 39
        }
      ]
    },
    {
      "cell_type": "code",
      "metadata": {
        "id": "KChUHsG003Nf",
        "colab": {
          "base_uri": "https://localhost:8080/"
        },
        "outputId": "841b2ae6-12d0-45eb-de2f-028bd3601523"
      },
      "source": [
        "print(a2)\r\n",
        "np.ones_like(a2)"
      ],
      "execution_count": null,
      "outputs": [
        {
          "output_type": "stream",
          "text": [
            "[[1 2 3]\n",
            " [4 5 6]\n",
            " [7 8 9]]\n"
          ],
          "name": "stdout"
        },
        {
          "output_type": "execute_result",
          "data": {
            "text/plain": [
              "array([[1, 1, 1],\n",
              "       [1, 1, 1],\n",
              "       [1, 1, 1]])"
            ]
          },
          "metadata": {
            "tags": []
          },
          "execution_count": 40
        }
      ]
    },
    {
      "cell_type": "code",
      "metadata": {
        "id": "PUnDz6b305Gg",
        "colab": {
          "base_uri": "https://localhost:8080/"
        },
        "outputId": "f2b1ad11-f6e6-42c0-ab69-8c3515d3dca0"
      },
      "source": [
        "print(a3)\r\n",
        "np.full_like(a3, 10) # a3과 shape가 같은 10으로 초기화한 배열을 만들어 줭"
      ],
      "execution_count": null,
      "outputs": [
        {
          "output_type": "stream",
          "text": [
            "[[[1 2 3]\n",
            "  [4 5 6]\n",
            "  [7 8 9]]\n",
            "\n",
            " [[1 2 3]\n",
            "  [4 5 6]\n",
            "  [7 8 9]]\n",
            "\n",
            " [[1 2 3]\n",
            "  [4 5 6]\n",
            "  [7 8 9]]]\n"
          ],
          "name": "stdout"
        },
        {
          "output_type": "execute_result",
          "data": {
            "text/plain": [
              "array([[[10, 10, 10],\n",
              "        [10, 10, 10],\n",
              "        [10, 10, 10]],\n",
              "\n",
              "       [[10, 10, 10],\n",
              "        [10, 10, 10],\n",
              "        [10, 10, 10]],\n",
              "\n",
              "       [[10, 10, 10],\n",
              "        [10, 10, 10],\n",
              "        [10, 10, 10]]])"
            ]
          },
          "metadata": {
            "tags": []
          },
          "execution_count": 42
        }
      ]
    },
    {
      "cell_type": "markdown",
      "metadata": {
        "id": "apoksGJNrn1z"
      },
      "source": [
        "### 생성한 값으로 배열 생성"
      ]
    },
    {
      "cell_type": "markdown",
      "metadata": {
        "id": "H3nmLct8cnV8"
      },
      "source": [
        "* `arange()`: 정수 범위로 배열 생성"
      ]
    },
    {
      "cell_type": "code",
      "metadata": {
        "id": "mANy4WY4cDKa",
        "colab": {
          "base_uri": "https://localhost:8080/"
        },
        "outputId": "c421e902-3fad-4111-cdfe-3425d086da42"
      },
      "source": [
        "# python의 range함수를 그대로 배열에 생성하는데 활용한다고 생각해라\r\n",
        "\r\n",
        "np.arange(0,30,2)"
      ],
      "execution_count": null,
      "outputs": [
        {
          "output_type": "execute_result",
          "data": {
            "text/plain": [
              "array([ 0,  2,  4,  6,  8, 10, 12, 14, 16, 18, 20, 22, 24, 26, 28])"
            ]
          },
          "metadata": {
            "tags": []
          },
          "execution_count": 43
        }
      ]
    },
    {
      "cell_type": "markdown",
      "metadata": {
        "id": "s5kET1e6itlo"
      },
      "source": [
        "* `linspace()`: 범위 내에서 균등 간격의 배열 생성"
      ]
    },
    {
      "cell_type": "code",
      "metadata": {
        "id": "u4q9gI7Zcltz",
        "colab": {
          "base_uri": "https://localhost:8080/"
        },
        "outputId": "a5ec66c0-a0fa-4780-857e-09e87bc98fdf"
      },
      "source": [
        "np.linspace(0, 1, 5) # 0부터 1까지 균등한 간격으로 5개 원소를 생성해줘"
      ],
      "execution_count": null,
      "outputs": [
        {
          "output_type": "execute_result",
          "data": {
            "text/plain": [
              "array([0.  , 0.25, 0.5 , 0.75, 1.  ])"
            ]
          },
          "metadata": {
            "tags": []
          },
          "execution_count": 45
        }
      ]
    },
    {
      "cell_type": "markdown",
      "metadata": {
        "id": "Eq26d7T3nnAH"
      },
      "source": [
        "* `logspace()`: 범위 내에서 균등간격으로 로그 스케일로 배열 생성"
      ]
    },
    {
      "cell_type": "code",
      "metadata": {
        "id": "-O29WBVEnyXX",
        "colab": {
          "base_uri": "https://localhost:8080/"
        },
        "outputId": "57d99442-95b8-4c65-dd3b-568604d51cfb"
      },
      "source": [
        "np.logspace(0.1, 1, 20) # log scale 단위로 균등하게"
      ],
      "execution_count": null,
      "outputs": [
        {
          "output_type": "execute_result",
          "data": {
            "text/plain": [
              "array([ 1.25892541,  1.40400425,  1.565802  ,  1.74624535,  1.94748304,\n",
              "        2.1719114 ,  2.42220294,  2.70133812,  3.0126409 ,  3.35981829,\n",
              "        3.74700446,  4.17881006,  4.66037703,  5.19743987,  5.79639395,\n",
              "        6.46437163,  7.2093272 ,  8.04013161,  8.9666781 , 10.        ])"
            ]
          },
          "metadata": {
            "tags": []
          },
          "execution_count": 50
        }
      ]
    },
    {
      "cell_type": "markdown",
      "metadata": {
        "id": "6_88s4_Jr7fO"
      },
      "source": [
        "### 랜덤값으로 배열 생성\n"
      ]
    },
    {
      "cell_type": "markdown",
      "metadata": {
        "id": "CoK1cVUkjNMg"
      },
      "source": [
        "* `random.random()`: 랜덤한 수의 배열 생성"
      ]
    },
    {
      "cell_type": "code",
      "metadata": {
        "id": "qJwccKEnjMze",
        "colab": {
          "base_uri": "https://localhost:8080/"
        },
        "outputId": "2a1b5d6a-237c-48bc-fe52-37e59becfb52"
      },
      "source": [
        "# 파이썬의 랜덤과 유사하다\r\n",
        "np.random.random((3,3))"
      ],
      "execution_count": null,
      "outputs": [
        {
          "output_type": "execute_result",
          "data": {
            "text/plain": [
              "array([[0.02993888, 0.5360059 , 0.73264415],\n",
              "       [0.77407229, 0.72839323, 0.29063108],\n",
              "       [0.73207045, 0.18683186, 0.52947586]])"
            ]
          },
          "metadata": {
            "tags": []
          },
          "execution_count": 52
        }
      ]
    },
    {
      "cell_type": "markdown",
      "metadata": {
        "id": "BYsAVwA1kvDI"
      },
      "source": [
        "* `random.randint()`: 일정 구간의 랜덤 정수의 배열 생성"
      ]
    },
    {
      "cell_type": "code",
      "metadata": {
        "id": "oR-UszZ_jqfQ",
        "colab": {
          "base_uri": "https://localhost:8080/"
        },
        "outputId": "1f868c0f-f2d5-4070-8db7-56a746040adc"
      },
      "source": [
        "np.random.randint(0, 10, (3,3)) # 0부터 9까지 3,3shape형태로 배열 생성"
      ],
      "execution_count": null,
      "outputs": [
        {
          "output_type": "execute_result",
          "data": {
            "text/plain": [
              "array([[2, 1, 9],\n",
              "       [1, 6, 5],\n",
              "       [8, 7, 8]])"
            ]
          },
          "metadata": {
            "tags": []
          },
          "execution_count": 63
        }
      ]
    },
    {
      "cell_type": "markdown",
      "metadata": {
        "id": "2r557WHsjrL3"
      },
      "source": [
        "* `random.normal()`: 정규분포(normal distribution)를 고려한 랜덤한 수의 배열 생성\n",
        "* 평균=0, 표준편차=1, 3 x 3 배열"
      ]
    },
    {
      "cell_type": "code",
      "metadata": {
        "id": "Oan3bSpHi2Wq",
        "colab": {
          "base_uri": "https://localhost:8080/"
        },
        "outputId": "23b64d73-a9a1-4692-f9c3-a564bad5bbd1"
      },
      "source": [
        "np.random.normal(0,1,(3,3))"
      ],
      "execution_count": null,
      "outputs": [
        {
          "output_type": "execute_result",
          "data": {
            "text/plain": [
              "array([[-1.10495923, -0.8925578 , -0.51288732],\n",
              "       [ 0.67210622, -0.66430756, -0.75135838],\n",
              "       [ 1.09708199,  1.25929788,  0.00572812]])"
            ]
          },
          "metadata": {
            "tags": []
          },
          "execution_count": 64
        }
      ]
    },
    {
      "cell_type": "markdown",
      "metadata": {
        "id": "fPO-D1rHsrFw"
      },
      "source": [
        "* `random.rand()`: 균등분포(uniform distribution)를 고려한 랜덤한 수의 배열 생성"
      ]
    },
    {
      "cell_type": "code",
      "metadata": {
        "id": "DxiyEjnXnDUT",
        "colab": {
          "base_uri": "https://localhost:8080/"
        },
        "outputId": "bfabdd17-fed6-455d-f339-b86b9e24fd4a"
      },
      "source": [
        "np.random.rand(3,3)"
      ],
      "execution_count": null,
      "outputs": [
        {
          "output_type": "execute_result",
          "data": {
            "text/plain": [
              "array([[0.59937817, 0.04061949, 0.07908881],\n",
              "       [0.79488907, 0.68564658, 0.48928495],\n",
              "       [0.48064495, 0.9632426 , 0.93116224]])"
            ]
          },
          "metadata": {
            "tags": []
          },
          "execution_count": 65
        }
      ]
    },
    {
      "cell_type": "markdown",
      "metadata": {
        "id": "IegH2dsPLQgd"
      },
      "source": [
        "* `random.randn()`: 표준 정규 분포(standard normal distribution)를 고려한 랜덤한 수의 배열 생성"
      ]
    },
    {
      "cell_type": "code",
      "metadata": {
        "id": "V61VHa-JLIma",
        "colab": {
          "base_uri": "https://localhost:8080/"
        },
        "outputId": "5de2d2e2-1165-47cd-ce4d-d694216c1169"
      },
      "source": [
        "np.random.randn(3,3)"
      ],
      "execution_count": null,
      "outputs": [
        {
          "output_type": "execute_result",
          "data": {
            "text/plain": [
              "array([[-6.19934997e-01,  5.13566761e-04, -4.31937786e-01],\n",
              "       [-6.08178886e-01,  2.51142393e-01,  7.38900968e-03],\n",
              "       [-6.01961610e-01,  2.57530064e-01, -1.40397706e+00]])"
            ]
          },
          "metadata": {
            "tags": []
          },
          "execution_count": 66
        }
      ]
    },
    {
      "cell_type": "markdown",
      "metadata": {
        "id": "5ts0cYLQL_pT"
      },
      "source": [
        "### 표준 데이터 타입"
      ]
    },
    {
      "cell_type": "markdown",
      "metadata": {
        "id": "X4WnVjbhAtyV"
      },
      "source": [
        "numpy만의 자료형이 존재한다.<br/>\r\n",
        "dtype을 주어서 사용"
      ]
    },
    {
      "cell_type": "code",
      "metadata": {
        "id": "rxqTqAFKL73y",
        "colab": {
          "base_uri": "https://localhost:8080/"
        },
        "outputId": "7398ee4f-0ea3-4473-9f7d-e03510218086"
      },
      "source": [
        "np.zeros(20, dtype=int)"
      ],
      "execution_count": null,
      "outputs": [
        {
          "output_type": "execute_result",
          "data": {
            "text/plain": [
              "array([0, 0, 0, 0, 0, 0, 0, 0, 0, 0, 0, 0, 0, 0, 0, 0, 0, 0, 0, 0])"
            ]
          },
          "metadata": {
            "tags": []
          },
          "execution_count": 67
        }
      ]
    },
    {
      "cell_type": "code",
      "metadata": {
        "id": "o9TuSl6HIsXr",
        "colab": {
          "base_uri": "https://localhost:8080/"
        },
        "outputId": "23b5afbe-c72c-4c87-98ff-e7404c7e3d7c"
      },
      "source": [
        "np.ones((3,3), dtype=bool) # 1은 True를 의미"
      ],
      "execution_count": null,
      "outputs": [
        {
          "output_type": "execute_result",
          "data": {
            "text/plain": [
              "array([[ True,  True,  True],\n",
              "       [ True,  True,  True],\n",
              "       [ True,  True,  True]])"
            ]
          },
          "metadata": {
            "tags": []
          },
          "execution_count": 69
        }
      ]
    },
    {
      "cell_type": "code",
      "metadata": {
        "id": "w-TciNfzEhY0",
        "colab": {
          "base_uri": "https://localhost:8080/"
        },
        "outputId": "554a344a-2220-4972-b415-783b71af05b0"
      },
      "source": [
        "np.full((3,3), 1.0, dtype=float)"
      ],
      "execution_count": null,
      "outputs": [
        {
          "output_type": "execute_result",
          "data": {
            "text/plain": [
              "array([[1., 1., 1.],\n",
              "       [1., 1., 1.],\n",
              "       [1., 1., 1.]])"
            ]
          },
          "metadata": {
            "tags": []
          },
          "execution_count": 70
        }
      ]
    },
    {
      "cell_type": "markdown",
      "metadata": {
        "id": "1qFumu-p-0mQ"
      },
      "source": [
        "### 날짜/시간 배열 생성\n"
      ]
    },
    {
      "cell_type": "code",
      "metadata": {
        "id": "D8ozvTUf-6Rr",
        "colab": {
          "base_uri": "https://localhost:8080/"
        },
        "outputId": "3e1e7661-afaf-4b74-ec56-496516f2952d"
      },
      "source": [
        "# 문자열로 나타내도 dtype을 날짜로 주면 날짜로 인식한다\r\n",
        "date = np.array('2020-01-01', dtype=np.datetime64) \r\n",
        "date"
      ],
      "execution_count": null,
      "outputs": [
        {
          "output_type": "execute_result",
          "data": {
            "text/plain": [
              "array('2020-01-01', dtype='datetime64[D]')"
            ]
          },
          "metadata": {
            "tags": []
          },
          "execution_count": 72
        }
      ]
    },
    {
      "cell_type": "code",
      "metadata": {
        "id": "XIjLUkn6_K3J",
        "colab": {
          "base_uri": "https://localhost:8080/"
        },
        "outputId": "7e3578b4-657e-4c04-f0d2-7890aeaa7546"
      },
      "source": [
        "# 이렇게 date를 계산할 수 있다\r\n",
        "date + np.arange(12)"
      ],
      "execution_count": null,
      "outputs": [
        {
          "output_type": "execute_result",
          "data": {
            "text/plain": [
              "array(['2020-01-01', '2020-01-02', '2020-01-03', '2020-01-04',\n",
              "       '2020-01-05', '2020-01-06', '2020-01-07', '2020-01-08',\n",
              "       '2020-01-09', '2020-01-10', '2020-01-11', '2020-01-12'],\n",
              "      dtype='datetime64[D]')"
            ]
          },
          "metadata": {
            "tags": []
          },
          "execution_count": 78
        }
      ]
    },
    {
      "cell_type": "code",
      "metadata": {
        "id": "EO7yE5VR_Wlh",
        "colab": {
          "base_uri": "https://localhost:8080/"
        },
        "outputId": "ce06be1b-cb90-435b-d083-0adb53676140"
      },
      "source": [
        "datetime = np.datetime64('2020-06-01 12:00')\r\n",
        "datetime"
      ],
      "execution_count": null,
      "outputs": [
        {
          "output_type": "execute_result",
          "data": {
            "text/plain": [
              "numpy.datetime64('2020-06-01T12:00')"
            ]
          },
          "metadata": {
            "tags": []
          },
          "execution_count": 75
        }
      ]
    },
    {
      "cell_type": "code",
      "metadata": {
        "id": "3dnOlf9i_kzX",
        "colab": {
          "base_uri": "https://localhost:8080/"
        },
        "outputId": "d7321db8-3054-4028-a7ec-9c9b5c995948"
      },
      "source": [
        "datetime = np.datetime64('2020-06-01 12:00:12.34', 'ns') # 나노초까지 ns를 주고 .으로 표현가능\r\n",
        "datetime"
      ],
      "execution_count": null,
      "outputs": [
        {
          "output_type": "execute_result",
          "data": {
            "text/plain": [
              "numpy.datetime64('2020-06-01T12:00:12.340000000')"
            ]
          },
          "metadata": {
            "tags": []
          },
          "execution_count": 79
        }
      ]
    },
    {
      "cell_type": "markdown",
      "metadata": {
        "id": "5AREIamhGxAr"
      },
      "source": [
        "\n",
        "\n",
        "---\n",
        "\n"
      ]
    },
    {
      "cell_type": "markdown",
      "metadata": {
        "id": "d88tkTqbBE5V"
      },
      "source": [
        "## 배열 조회"
      ]
    },
    {
      "cell_type": "markdown",
      "metadata": {
        "id": "vRqwfbjtFnPn"
      },
      "source": [
        "### 배열 속성 정보"
      ]
    },
    {
      "cell_type": "code",
      "metadata": {
        "id": "R5Rlcll7GXrM"
      },
      "source": [
        "def array_info(array):\r\n",
        "  print(array)\r\n",
        "  print('ndim:', array.ndim) # dimension의 갯수\r\n",
        "  print('shape:', array.shape)\r\n",
        "  print('dtype:', array.dtype)\r\n",
        "  print('size:', array.size)\r\n",
        "  print('itemsize:', array.itemsize) # 하나의 아이템이 가지고 있는 바이트 사이즈\r\n",
        "  print('nbytes:',array.nbytes) # array의 전체크기 byte단위\r\n",
        "  print('strides:',array.strides) # 다음 차원으로 넘어갈 때 얼마나 필요한가"
      ],
      "execution_count": null,
      "outputs": []
    },
    {
      "cell_type": "code",
      "metadata": {
        "id": "Na59LwA7KXZV",
        "colab": {
          "base_uri": "https://localhost:8080/"
        },
        "outputId": "501f2cee-df57-4033-87b2-649410461db0"
      },
      "source": [
        "array_info(a1)"
      ],
      "execution_count": null,
      "outputs": [
        {
          "output_type": "stream",
          "text": [
            "[[1 2 3]\n",
            " [4 5 6]\n",
            " [7 8 9]]\n",
            "ndim: 2\n",
            "shape: (3, 3)\n",
            "dtype: int64\n",
            "size: 9\n",
            "itemsize: 8\n",
            "nbytes: 72\n",
            "strides: (24, 8)\n"
          ],
          "name": "stdout"
        }
      ]
    },
    {
      "cell_type": "code",
      "metadata": {
        "id": "Urzr_LsdLah0",
        "colab": {
          "base_uri": "https://localhost:8080/"
        },
        "outputId": "53d419e4-77e6-4529-8150-36eb688f89ab"
      },
      "source": [
        "array_info(a2)"
      ],
      "execution_count": null,
      "outputs": [
        {
          "output_type": "stream",
          "text": [
            "[[1 2 3]\n",
            " [4 5 6]\n",
            " [7 8 9]]\n",
            "ndim: 2\n",
            "shape: (3, 3)\n",
            "dtype: int64\n",
            "size: 9\n",
            "itemsize: 8\n",
            "nbytes: 72\n",
            "strides: (24, 8)\n"
          ],
          "name": "stdout"
        }
      ]
    },
    {
      "cell_type": "code",
      "metadata": {
        "id": "jktqh1lsLf4V",
        "colab": {
          "base_uri": "https://localhost:8080/"
        },
        "outputId": "7678fc7f-a1bb-4f08-995c-c6d0f6040592"
      },
      "source": [
        "array_info(a3)"
      ],
      "execution_count": null,
      "outputs": [
        {
          "output_type": "stream",
          "text": [
            "[[[1 2 3]\n",
            "  [4 5 6]\n",
            "  [7 8 9]]\n",
            "\n",
            " [[1 2 3]\n",
            "  [4 5 6]\n",
            "  [7 8 9]]\n",
            "\n",
            " [[1 2 3]\n",
            "  [4 5 6]\n",
            "  [7 8 9]]]\n",
            "ndim: 3\n",
            "shape: (3, 3, 3)\n",
            "dtype: int64\n",
            "size: 27\n",
            "itemsize: 8\n",
            "nbytes: 216\n",
            "strides: (72, 24, 8)\n"
          ],
          "name": "stdout"
        }
      ]
    },
    {
      "cell_type": "markdown",
      "metadata": {
        "id": "LV1WfdBWFqDu"
      },
      "source": [
        "### 인덱싱(Indexing)"
      ]
    },
    {
      "cell_type": "code",
      "metadata": {
        "id": "Nyb7eDmGFr5m",
        "colab": {
          "base_uri": "https://localhost:8080/"
        },
        "outputId": "3d62f9c9-9114-4888-f185-8358d896251e"
      },
      "source": [
        "print(a1)\r\n",
        "print(a1[0])\r\n",
        "print(a1[1])\r\n",
        "print(a1[-1]) # 파이썬 리스트와 마찬가지로 음수로도 접근가능"
      ],
      "execution_count": null,
      "outputs": [
        {
          "output_type": "stream",
          "text": [
            "[4 5 3 4 5]\n",
            "4\n",
            "5\n",
            "5\n"
          ],
          "name": "stdout"
        }
      ]
    },
    {
      "cell_type": "code",
      "metadata": {
        "id": "uHMNcQW3Kn-h",
        "colab": {
          "base_uri": "https://localhost:8080/"
        },
        "outputId": "34ae1211-5b85-4aad-cf7c-241b7ae03d9c"
      },
      "source": [
        "print(a2)\r\n",
        "print(a2[0,0])\r\n",
        "print(a2[0,2])\r\n",
        "print(a2[-1,1]) # 파이썬 리스트와 마찬가지로 음수로도 접근가능"
      ],
      "execution_count": null,
      "outputs": [
        {
          "output_type": "stream",
          "text": [
            "[[1 2 3]\n",
            " [4 5 6]\n",
            " [7 8 9]]\n",
            "1\n",
            "3\n",
            "8\n"
          ],
          "name": "stdout"
        }
      ]
    },
    {
      "cell_type": "code",
      "metadata": {
        "id": "IX5yDMGiMxYZ",
        "colab": {
          "base_uri": "https://localhost:8080/"
        },
        "outputId": "bc1ccdf1-f79b-44ff-cd98-7442829b32be"
      },
      "source": [
        "print(a3)\r\n",
        "print(a3[0,0,0])\r\n",
        "print(a3[1,1,1])\r\n",
        "print(a3[-1,1,-2])"
      ],
      "execution_count": null,
      "outputs": [
        {
          "output_type": "stream",
          "text": [
            "[[[1 2 3]\n",
            "  [4 5 6]\n",
            "  [7 8 9]]\n",
            "\n",
            " [[1 2 3]\n",
            "  [4 5 6]\n",
            "  [7 8 9]]\n",
            "\n",
            " [[1 2 3]\n",
            "  [4 5 6]\n",
            "  [7 8 9]]]\n",
            "1\n",
            "5\n",
            "5\n"
          ],
          "name": "stdout"
        }
      ]
    },
    {
      "cell_type": "markdown",
      "metadata": {
        "id": "uSeXu2y_O4cu"
      },
      "source": [
        "### 슬라이싱(Slicing)"
      ]
    },
    {
      "cell_type": "markdown",
      "metadata": {
        "id": "1hikO_6ZPp5m"
      },
      "source": [
        "* 슬라이싱 구문: `a[start:stop:step]`\n",
        "* 기본값: start=0, stop=ndim, step=1"
      ]
    },
    {
      "cell_type": "code",
      "metadata": {
        "id": "PYZOOCoVO7BF",
        "colab": {
          "base_uri": "https://localhost:8080/"
        },
        "outputId": "ec362d69-e185-432a-ca4b-1bdf1befb7cc"
      },
      "source": [
        "#파이썬 리스트와 마찬가지로 슬라이싱 가능\r\n",
        "print(a1)\r\n",
        "print(a1[0:2])\r\n",
        "print(a1[0:])\r\n",
        "print(a1[::2])\r\n",
        "print(a1[::-1])"
      ],
      "execution_count": null,
      "outputs": [
        {
          "output_type": "stream",
          "text": [
            "[4 5 3 4 5]\n",
            "[4 5]\n",
            "[4 5 3 4 5]\n",
            "[4 3 5]\n",
            "[5 4 3 5 4]\n"
          ],
          "name": "stdout"
        }
      ]
    },
    {
      "cell_type": "code",
      "metadata": {
        "id": "oULOFrBQWs1G",
        "colab": {
          "base_uri": "https://localhost:8080/"
        },
        "outputId": "55008911-969c-4868-b302-01f34da889ef"
      },
      "source": [
        "print(a2)\r\n",
        "print(a2[1])\r\n",
        "print(a2[1, :])\r\n",
        "print(a2[:2, :2])\r\n",
        "print(a2[1:,::-1])\r\n",
        "print(a2[::-1,::-1])"
      ],
      "execution_count": null,
      "outputs": [
        {
          "output_type": "stream",
          "text": [
            "[[1 2 3]\n",
            " [4 5 6]\n",
            " [7 8 9]]\n",
            "[4 5 6]\n",
            "[4 5 6]\n",
            "[[1 2]\n",
            " [4 5]]\n",
            "[[6 5 4]\n",
            " [9 8 7]]\n",
            "[[9 8 7]\n",
            " [6 5 4]\n",
            " [3 2 1]]\n"
          ],
          "name": "stdout"
        }
      ]
    },
    {
      "cell_type": "markdown",
      "metadata": {
        "id": "LD52bXAsBgbH"
      },
      "source": [
        "### 불리언 인덱싱(Boolean Indexing)\n",
        "\n",
        "* 배열 각 요소의 선택 여부를 불리언(True or False)로 지정\n",
        "* True 값인 인덱스의 값만 조회"
      ]
    },
    {
      "cell_type": "code",
      "metadata": {
        "id": "pOvNsH2oBgz-",
        "colab": {
          "base_uri": "https://localhost:8080/"
        },
        "outputId": "3adab031-12ce-4763-b045-23072a5ddee1"
      },
      "source": [
        "print(a1)\r\n",
        "bi = [False, True, True, False, True]\r\n",
        "print(a1[bi]) # index 대신에 boolean index를 넣어서 요소선택 가능\r\n",
        "bi = [True,False,True,True,False]\r\n",
        "print(a1[bi])"
      ],
      "execution_count": null,
      "outputs": [
        {
          "output_type": "stream",
          "text": [
            "[4 5 3 4 5]\n",
            "[5 3 5]\n",
            "[4 3 4]\n"
          ],
          "name": "stdout"
        }
      ]
    },
    {
      "cell_type": "code",
      "metadata": {
        "id": "EFfquM2kWHAU",
        "colab": {
          "base_uri": "https://localhost:8080/"
        },
        "outputId": "38b0ad6c-a2c3-42e5-fd96-fa2da89aaefe"
      },
      "source": [
        "print(a2)\r\n",
        "bi = np.random.randint(0,2,(3,3), dtype=bool)\r\n",
        "print(bi)\r\n",
        "print(a2[bi])"
      ],
      "execution_count": null,
      "outputs": [
        {
          "output_type": "stream",
          "text": [
            "[[1 2 3]\n",
            " [4 5 6]\n",
            " [7 8 9]]\n",
            "[[ True False  True]\n",
            " [False False False]\n",
            " [False False  True]]\n",
            "[1 3 9]\n"
          ],
          "name": "stdout"
        }
      ]
    },
    {
      "cell_type": "markdown",
      "metadata": {
        "id": "R5hes-hdBujH"
      },
      "source": [
        "### 팬시 인덱싱(Fancy Indedxing)"
      ]
    },
    {
      "cell_type": "code",
      "metadata": {
        "id": "z-Luw5fzBx30",
        "colab": {
          "base_uri": "https://localhost:8080/"
        },
        "outputId": "8e98b966-0d63-4515-c0f9-13cadf3aa925"
      },
      "source": [
        "print(a1)\r\n",
        "print([a1[0], a1[2]])\r\n",
        "ind = [0,2]\r\n",
        "print(a1[ind])\r\n",
        "\r\n",
        "# 1차원 배열에 2차원 배열 인덱스를 넣어주면 2차원 배열로 만들어준다\r\n",
        "ind = np.array([\r\n",
        "                [0,1],\r\n",
        "                [2,0],\r\n",
        "])\r\n",
        "print(a1[ind])"
      ],
      "execution_count": null,
      "outputs": [
        {
          "output_type": "stream",
          "text": [
            "[4 5 3 4 5]\n",
            "[4, 3]\n",
            "[4 3]\n",
            "[[4 5]\n",
            " [3 4]]\n"
          ],
          "name": "stdout"
        }
      ]
    },
    {
      "cell_type": "code",
      "metadata": {
        "id": "p_Dd0oiJahgj",
        "colab": {
          "base_uri": "https://localhost:8080/"
        },
        "outputId": "854492f7-daad-468d-c795-1f53a206f421"
      },
      "source": [
        "print(a2)\r\n",
        "row = np.array([0,2])\r\n",
        "col = np.array([1,2])\r\n",
        "print(a2[row,col])\r\n",
        "\r\n",
        "#슬라이싱 등 혼합해서 사용 가능\r\n",
        "print(a2[row, :])\r\n",
        "print(a2[:, col])\r\n",
        "print(a2[1:, col])\r\n",
        "print(a2[row, 1:])\r\n",
        "print(a2[1:, col])"
      ],
      "execution_count": null,
      "outputs": [
        {
          "output_type": "stream",
          "text": [
            "[[1 2 3]\n",
            " [4 5 6]\n",
            " [7 8 9]]\n",
            "[2 9]\n",
            "[[1 2 3]\n",
            " [7 8 9]]\n",
            "[[2 3]\n",
            " [5 6]\n",
            " [8 9]]\n",
            "[[5 6]\n",
            " [8 9]]\n",
            "[[2 3]\n",
            " [8 9]]\n",
            "[[5 6]\n",
            " [8 9]]\n"
          ],
          "name": "stdout"
        }
      ]
    },
    {
      "cell_type": "markdown",
      "metadata": {
        "id": "F71_PQF1GvTs"
      },
      "source": [
        "\n",
        "\n",
        "---\n",
        "\n"
      ]
    },
    {
      "cell_type": "markdown",
      "metadata": {
        "id": "zDI5yQ58O-IX"
      },
      "source": [
        "## 배열 값 삽입/수정/삭제/복사"
      ]
    },
    {
      "cell_type": "markdown",
      "metadata": {
        "id": "zajd1qpVOQYy"
      },
      "source": [
        "### 배열 값 삽입\n",
        "\n",
        "* `insert()`: 배열의 특정 위치에 값 삽입\n",
        "* axis를 지정하지 않으면 1차원 배열로 변환\n",
        "* 추가할 방향을 axis로 지정\n",
        "* 원본 배열 변경없이 새로운 배열 반환"
      ]
    },
    {
      "cell_type": "code",
      "metadata": {
        "id": "sedRT54rP395",
        "colab": {
          "base_uri": "https://localhost:8080/"
        },
        "outputId": "4eb324e3-a579-4ddb-dbcd-9680cec2e80b"
      },
      "source": [
        "print(a1)\r\n",
        "b1 = np.insert(a1, 0, 10) # a1의 0번째 위치에 10을 넣어서 배열을 새로 생성해줘\r\n",
        "print(b1)\r\n",
        "print(a1) # a1은 바뀌지 않음\r\n",
        "\r\n",
        "c1 = np.insert(a1, 2, 10)\r\n",
        "print(c1)"
      ],
      "execution_count": 117,
      "outputs": [
        {
          "output_type": "stream",
          "text": [
            "[4 5 3 4 5]\n",
            "[10  4  5  3  4  5]\n",
            "[4 5 3 4 5]\n",
            "[ 4  5 10  3  4  5]\n"
          ],
          "name": "stdout"
        }
      ]
    },
    {
      "cell_type": "code",
      "metadata": {
        "id": "zNmu1E4iQ6h-",
        "colab": {
          "base_uri": "https://localhost:8080/"
        },
        "outputId": "5ddbb72c-f5b3-49ba-b175-c1438a5bdf1c"
      },
      "source": [
        "print(a2)\r\n",
        "\r\n",
        "# 2차원 배열이기에 axis(축) 지정 가능\r\n",
        "b2 = np.insert(a2, 1, 10, axis=0) \r\n",
        "print(b2)\r\n",
        "\r\n",
        "c2 = np.insert(a2, 1, 10, axis=1)\r\n",
        "print(c2)"
      ],
      "execution_count": 120,
      "outputs": [
        {
          "output_type": "stream",
          "text": [
            "[[1 2 3]\n",
            " [4 5 6]\n",
            " [7 8 9]]\n",
            "[[ 1  2  3]\n",
            " [10 10 10]\n",
            " [ 4  5  6]\n",
            " [ 7  8  9]]\n",
            "[10 10  1  2  3  4  5  6  7  8  9]\n",
            "[[ 1 10  2  3]\n",
            " [ 4 10  5  6]\n",
            " [ 7 10  8  9]]\n"
          ],
          "name": "stdout"
        }
      ]
    },
    {
      "cell_type": "markdown",
      "metadata": {
        "id": "OlEzG4ffNjyL"
      },
      "source": [
        "### 배열 값 수정\n",
        "\n",
        "* 배열의 인덱싱으로 접근하여 값 수정"
      ]
    },
    {
      "cell_type": "code",
      "metadata": {
        "id": "ec43i1KWNjeN",
        "colab": {
          "base_uri": "https://localhost:8080/"
        },
        "outputId": "afc18e5a-1d91-4320-8b13-bf9b1b19c277"
      },
      "source": [
        "print(a1)\r\n",
        "\r\n",
        "a1[0] = 1\r\n",
        "a1[1] = 2\r\n",
        "a1[2] = 3\r\n",
        "print(a1)\r\n",
        "\r\n",
        "a1[:1] = 9\r\n",
        "print(a1)\r\n",
        "\r\n",
        "i = np.array([1,3,4])\r\n",
        "a1[i] = 0 # 1,3,4인덱스를 0으로 바꾼다\r\n",
        "print(a1)\r\n",
        "\r\n",
        "a1[i] += 4\r\n",
        "print(a1)"
      ],
      "execution_count": 126,
      "outputs": [
        {
          "output_type": "stream",
          "text": [
            "[9 0 3 0 0]\n",
            "[1 2 3 0 0]\n",
            "[9 2 3 0 0]\n",
            "[9 0 3 0 0]\n",
            "[9 4 3 4 4]\n"
          ],
          "name": "stdout"
        }
      ]
    },
    {
      "cell_type": "code",
      "metadata": {
        "id": "IApNNx3NOMQh",
        "colab": {
          "base_uri": "https://localhost:8080/"
        },
        "outputId": "02c0dbe6-dabf-47e1-ce8e-ab5da4c4b47c"
      },
      "source": [
        "print(a2)\r\n",
        "a2[0,0] = 1\r\n",
        "a2[1,1] = 2\r\n",
        "print(a2)\r\n",
        "\r\n",
        "a2[0] = 1 # 첫번째 row를 다 1로 바꾼다\r\n",
        "print(a2)\r\n",
        "\r\n",
        "row = np.array([0,1]) # fancy indexing\r\n",
        "col = np.array([1,2])\r\n",
        "a2[row,col] = 0\r\n",
        "print(a2)"
      ],
      "execution_count": 127,
      "outputs": [
        {
          "output_type": "stream",
          "text": [
            "[[1 2 3]\n",
            " [4 5 6]\n",
            " [7 8 9]]\n",
            "[[1 2 3]\n",
            " [4 2 6]\n",
            " [7 8 9]]\n",
            "[[1 1 1]\n",
            " [4 2 6]\n",
            " [7 8 9]]\n"
          ],
          "name": "stdout"
        }
      ]
    },
    {
      "cell_type": "markdown",
      "metadata": {
        "id": "emV7DgrITPcn"
      },
      "source": [
        "### 배열 값 삭제\n",
        "\n",
        "* `delete()`: 배열의 특정 위치에 값 삭제\n",
        "* axis를 지정하지 않으면 1차원 배열로 변환\n",
        "* 삭제할 방향을 axis로 지정\n",
        "* **원본 배열 변경없이 새로운 배열 반환**"
      ]
    },
    {
      "cell_type": "code",
      "metadata": {
        "id": "I3k_Yx8lTRJ2",
        "colab": {
          "base_uri": "https://localhost:8080/"
        },
        "outputId": "3287dae5-f032-4f51-9ae7-e617671d60f9"
      },
      "source": [
        "print(a1)\r\n",
        "b1 = np.delete(a1, 1) # 원본 배열은 바뀌지 않는다\r\n",
        "print(b1) "
      ],
      "execution_count": 128,
      "outputs": [
        {
          "output_type": "stream",
          "text": [
            "[9 4 3 4 4]\n",
            "[9 3 4 4]\n"
          ],
          "name": "stdout"
        }
      ]
    },
    {
      "cell_type": "code",
      "metadata": {
        "id": "tRTwMIfJTq_y",
        "colab": {
          "base_uri": "https://localhost:8080/"
        },
        "outputId": "2b4e4a2a-128e-4cee-c16b-c5fcaf603ac2"
      },
      "source": [
        "print(a2)\r\n",
        "\r\n",
        "b2 = np.delete(a2, 1, axis=0)\r\n",
        "print(b2)\r\n",
        "\r\n",
        "c2 = np.delete(a2, 1, axis=1)\r\n",
        "print(c2)"
      ],
      "execution_count": 130,
      "outputs": [
        {
          "output_type": "stream",
          "text": [
            "[[1 1 1]\n",
            " [4 2 6]\n",
            " [7 8 9]]\n",
            "[[1 1 1]\n",
            " [7 8 9]]\n",
            "[[1 1]\n",
            " [4 6]\n",
            " [7 9]]\n"
          ],
          "name": "stdout"
        }
      ]
    },
    {
      "cell_type": "markdown",
      "metadata": {
        "id": "UydkYxV8Z6Fx"
      },
      "source": [
        "### 배열 복사\n",
        "\n",
        "* 리스트 자료형과 달리 배열의 슬라이스는 복사본이 아님\n",
        "\n",
        "파이썬 리스트는 슬라이스하면 복사본을 가져오는데 numpy배열은 그렇지 않아 변화가 발생할 경우 원본에 영향을 준다."
      ]
    },
    {
      "cell_type": "code",
      "metadata": {
        "id": "n2_0L8KWZ7wH",
        "colab": {
          "base_uri": "https://localhost:8080/"
        },
        "outputId": "d5d3a431-24de-4810-ea5c-8107e33b1740"
      },
      "source": [
        "print(a2)\r\n",
        "print(a2[:2,:2])\r\n",
        "\r\n",
        "a2_sub = a2[:2, :2]\r\n",
        "print(a2_sub)\r\n",
        "\r\n",
        "a2_sub[:, 1] = 0\r\n",
        "print(a2_sub)\r\n",
        "\r\n",
        "print(a2) # a2_sub에 변화를 주었는데 원본데이터도 변경되었다"
      ],
      "execution_count": 135,
      "outputs": [
        {
          "output_type": "stream",
          "text": [
            "[[1 0 1]\n",
            " [4 0 6]\n",
            " [7 8 9]]\n",
            "[[1 0]\n",
            " [4 0]]\n",
            "[[1 0]\n",
            " [4 0]]\n",
            "[[1 0]\n",
            " [4 0]]\n",
            "[[1 0 1]\n",
            " [4 0 6]\n",
            " [7 8 9]]\n"
          ],
          "name": "stdout"
        }
      ]
    },
    {
      "cell_type": "markdown",
      "metadata": {
        "id": "UrQqOC1Eat5l"
      },
      "source": [
        "\n",
        "* `copy()`: 배열이나 하위 배열 내의 값을 명시적으로 복사"
      ]
    },
    {
      "cell_type": "code",
      "metadata": {
        "id": "hLBZ7Qn6bAKO",
        "colab": {
          "base_uri": "https://localhost:8080/"
        },
        "outputId": "07dcd262-c4a5-4d1b-865d-125f8f961788"
      },
      "source": [
        "# 복사하고 싶으면 copy()를 붙여줘야한다\r\n",
        "print(a2)\r\n",
        "a2_sub_copy = a2[:2, :2].copy()\r\n",
        "print(a2_sub_copy)\r\n",
        "a2_sub_copy[:, 1] = 1\r\n",
        "\r\n",
        "print(a2) # 복사본을 변경한 것이므로 원본은 변화x"
      ],
      "execution_count": 138,
      "outputs": [
        {
          "output_type": "stream",
          "text": [
            "[[1 0 1]\n",
            " [4 0 6]\n",
            " [7 8 9]]\n",
            "[[1 0]\n",
            " [4 0]]\n",
            "[[1 0 1]\n",
            " [4 0 6]\n",
            " [7 8 9]]\n"
          ],
          "name": "stdout"
        }
      ]
    },
    {
      "cell_type": "markdown",
      "metadata": {
        "id": "4HTc9FXOGtA7"
      },
      "source": [
        "\n",
        "\n",
        "---\n",
        "\n"
      ]
    },
    {
      "cell_type": "markdown",
      "metadata": {
        "id": "XVZY082__yV6"
      },
      "source": [
        "## 배열 변환"
      ]
    },
    {
      "cell_type": "markdown",
      "metadata": {
        "id": "Ec09aPeBO58M"
      },
      "source": [
        "### 배열 전치 및 축 변경"
      ]
    },
    {
      "cell_type": "code",
      "metadata": {
        "id": "anYByBpoWZmj",
        "colab": {
          "base_uri": "https://localhost:8080/"
        },
        "outputId": "38e786f4-fb81-4afb-82c0-cefbed3a9191"
      },
      "source": [
        "print(a2)\r\n",
        "print(a2.T) # .T를 붙이면 전치가 된다"
      ],
      "execution_count": 139,
      "outputs": [
        {
          "output_type": "stream",
          "text": [
            "[[1 0 1]\n",
            " [4 0 6]\n",
            " [7 8 9]]\n",
            "[[1 4 7]\n",
            " [0 0 8]\n",
            " [1 6 9]]\n"
          ],
          "name": "stdout"
        }
      ]
    },
    {
      "cell_type": "code",
      "metadata": {
        "id": "wg4XC6kiRnZo",
        "colab": {
          "base_uri": "https://localhost:8080/"
        },
        "outputId": "500587aa-eda5-4fc2-99b4-7671a1de43e7"
      },
      "source": [
        "print(a3)\r\n",
        "print(a3.T)"
      ],
      "execution_count": 140,
      "outputs": [
        {
          "output_type": "stream",
          "text": [
            "[[[1 2 3]\n",
            "  [4 5 6]\n",
            "  [7 8 9]]\n",
            "\n",
            " [[1 2 3]\n",
            "  [4 5 6]\n",
            "  [7 8 9]]\n",
            "\n",
            " [[1 2 3]\n",
            "  [4 5 6]\n",
            "  [7 8 9]]]\n",
            "[[[1 1 1]\n",
            "  [4 4 4]\n",
            "  [7 7 7]]\n",
            "\n",
            " [[2 2 2]\n",
            "  [5 5 5]\n",
            "  [8 8 8]]\n",
            "\n",
            " [[3 3 3]\n",
            "  [6 6 6]\n",
            "  [9 9 9]]]\n"
          ],
          "name": "stdout"
        }
      ]
    },
    {
      "cell_type": "code",
      "metadata": {
        "id": "6lPwXL8rRTfI",
        "colab": {
          "base_uri": "https://localhost:8080/"
        },
        "outputId": "c6b33228-498e-4c7e-be1f-23c5b3bdeb89"
      },
      "source": [
        "print(a2)\r\n",
        "print(a2.swapaxes(1,0)) # 1과 0축을 스왑한다"
      ],
      "execution_count": 145,
      "outputs": [
        {
          "output_type": "stream",
          "text": [
            "[[1 0 1]\n",
            " [4 0 6]\n",
            " [7 8 9]]\n",
            "[[1 4 7]\n",
            " [0 0 8]\n",
            " [1 6 9]]\n"
          ],
          "name": "stdout"
        }
      ]
    },
    {
      "cell_type": "code",
      "metadata": {
        "id": "oLbEHtijRewH",
        "colab": {
          "base_uri": "https://localhost:8080/"
        },
        "outputId": "daf8f30f-226b-42db-cee6-e893c44299e0"
      },
      "source": [
        "print(a3)\r\n",
        "print(a3.swapaxes(0,1)) # 0과 1축을 스왑한다\r\n",
        "print(a3.swapaxes(1,2))"
      ],
      "execution_count": 146,
      "outputs": [
        {
          "output_type": "stream",
          "text": [
            "[[[1 2 3]\n",
            "  [4 5 6]\n",
            "  [7 8 9]]\n",
            "\n",
            " [[1 2 3]\n",
            "  [4 5 6]\n",
            "  [7 8 9]]\n",
            "\n",
            " [[1 2 3]\n",
            "  [4 5 6]\n",
            "  [7 8 9]]]\n",
            "[[[1 2 3]\n",
            "  [1 2 3]\n",
            "  [1 2 3]]\n",
            "\n",
            " [[4 5 6]\n",
            "  [4 5 6]\n",
            "  [4 5 6]]\n",
            "\n",
            " [[7 8 9]\n",
            "  [7 8 9]\n",
            "  [7 8 9]]]\n",
            "[[[1 4 7]\n",
            "  [2 5 8]\n",
            "  [3 6 9]]\n",
            "\n",
            " [[1 4 7]\n",
            "  [2 5 8]\n",
            "  [3 6 9]]\n",
            "\n",
            " [[1 4 7]\n",
            "  [2 5 8]\n",
            "  [3 6 9]]]\n"
          ],
          "name": "stdout"
        }
      ]
    },
    {
      "cell_type": "markdown",
      "metadata": {
        "id": "M7xN8WdOdb_S"
      },
      "source": [
        "### 배열 재구조화\n"
      ]
    },
    {
      "cell_type": "markdown",
      "metadata": {
        "id": "JwZJMpXGfY0V"
      },
      "source": [
        "* `reshape()`: 배열의 형상을 변경"
      ]
    },
    {
      "cell_type": "code",
      "metadata": {
        "id": "SlGQ17VQdd8i",
        "colab": {
          "base_uri": "https://localhost:8080/"
        },
        "outputId": "849241af-a2be-44d6-c1d9-a07661857f34"
      },
      "source": [
        "n1 = np.arange(1,10)\r\n",
        "print(n1)\r\n",
        "\r\n",
        "print(n1.reshape(3,3)) # 1차원을 3차원으로 변경"
      ],
      "execution_count": 151,
      "outputs": [
        {
          "output_type": "stream",
          "text": [
            "[1 2 3 4 5 6 7 8 9]\n",
            "[[1 2 3]\n",
            " [4 5 6]\n",
            " [7 8 9]]\n"
          ],
          "name": "stdout"
        }
      ]
    },
    {
      "cell_type": "markdown",
      "metadata": {
        "id": "y_U1W-fQfuQY"
      },
      "source": [
        "* `newaxis()`: 새로운 축 추가"
      ]
    },
    {
      "cell_type": "code",
      "metadata": {
        "id": "COif_weCfkGo",
        "colab": {
          "base_uri": "https://localhost:8080/"
        },
        "outputId": "9cff01f1-4fd8-4d76-a72f-28f75c4f4d66"
      },
      "source": [
        "print(n1)\r\n",
        "print(n1[np.newaxis, :5])\r\n",
        "print(n1[:5, np.newaxis])"
      ],
      "execution_count": 155,
      "outputs": [
        {
          "output_type": "stream",
          "text": [
            "[1 2 3 4 5 6 7 8 9]\n",
            "[[1 2 3 4 5]]\n",
            "[[1]\n",
            " [2]\n",
            " [3]\n",
            " [4]\n",
            " [5]]\n"
          ],
          "name": "stdout"
        }
      ]
    },
    {
      "cell_type": "markdown",
      "metadata": {
        "id": "FR82RSDggbcJ"
      },
      "source": [
        "### 배열 크기 변경"
      ]
    },
    {
      "cell_type": "markdown",
      "metadata": {
        "id": "D1LuDMVFl4tc"
      },
      "source": [
        "* 배열 모양만 변경"
      ]
    },
    {
      "cell_type": "code",
      "metadata": {
        "id": "7B6pHlfxgdSJ",
        "colab": {
          "base_uri": "https://localhost:8080/"
        },
        "outputId": "4b6c1860-8126-4ba7-959f-e9a091cee9cb"
      },
      "source": [
        "n2 = np.random.randint(0, 10, (2,5))\r\n",
        "print(n2)\r\n",
        "\r\n",
        "n2.resize((5,2))\r\n",
        "print(n2)"
      ],
      "execution_count": 157,
      "outputs": [
        {
          "output_type": "stream",
          "text": [
            "[[6 4 2 0 9]\n",
            " [5 9 4 7 5]]\n",
            "[[6 4]\n",
            " [2 0]\n",
            " [9 5]\n",
            " [9 4]\n",
            " [7 5]]\n"
          ],
          "name": "stdout"
        }
      ]
    },
    {
      "cell_type": "markdown",
      "metadata": {
        "id": "s0adm-h9l6sv"
      },
      "source": [
        "* 배열 크기 증가\n",
        "* 남은 공간은 0으로 채워짐"
      ]
    },
    {
      "cell_type": "code",
      "metadata": {
        "id": "IrX0UcjrlWRV",
        "colab": {
          "base_uri": "https://localhost:8080/"
        },
        "outputId": "db5b8897-85e2-45d5-c851-af89136eb274"
      },
      "source": [
        "n2.resize((5,5))\r\n",
        "print(n2)"
      ],
      "execution_count": 158,
      "outputs": [
        {
          "output_type": "stream",
          "text": [
            "[[6 4 2 0 9]\n",
            " [5 9 4 7 5]\n",
            " [0 0 0 0 0]\n",
            " [0 0 0 0 0]\n",
            " [0 0 0 0 0]]\n"
          ],
          "name": "stdout"
        }
      ]
    },
    {
      "cell_type": "markdown",
      "metadata": {
        "id": "78hPDEzfl9JB"
      },
      "source": [
        "* 배열 크기 감소\n",
        "* 포함되지 않은 값은 삭제됨"
      ]
    },
    {
      "cell_type": "code",
      "metadata": {
        "id": "fJWrwhc6lmjW",
        "colab": {
          "base_uri": "https://localhost:8080/"
        },
        "outputId": "8d8c12f7-fb14-4f08-d7a1-e1bd5961f04a"
      },
      "source": [
        "n2.resize((3,3))\r\n",
        "print(n2)"
      ],
      "execution_count": 159,
      "outputs": [
        {
          "output_type": "stream",
          "text": [
            "[[6 4 2]\n",
            " [0 9 5]\n",
            " [9 4 7]]\n"
          ],
          "name": "stdout"
        }
      ]
    },
    {
      "cell_type": "markdown",
      "metadata": {
        "id": "r9z2gD_pHyx9"
      },
      "source": [
        "### 배열 추가\n",
        "\n",
        "* `append()`: 배열의 끝에 값 추가"
      ]
    },
    {
      "cell_type": "code",
      "metadata": {
        "id": "fH4lpQKNH5s1",
        "colab": {
          "base_uri": "https://localhost:8080/"
        },
        "outputId": "a62cec69-d7ba-4f36-996a-25e5232a63a0"
      },
      "source": [
        "a2 = np.arange(1, 10).reshape(3,3)\r\n",
        "print(a2)\r\n",
        "\r\n",
        "b2 = np.arange(10, 19).reshape(3,3)\r\n",
        "print(b2)\r\n"
      ],
      "execution_count": 160,
      "outputs": [
        {
          "output_type": "stream",
          "text": [
            "[[1 2 3]\n",
            " [4 5 6]\n",
            " [7 8 9]]\n",
            "[[10 11 12]\n",
            " [13 14 15]\n",
            " [16 17 18]]\n"
          ],
          "name": "stdout"
        }
      ]
    },
    {
      "cell_type": "markdown",
      "metadata": {
        "id": "n8SMl5VVIquk"
      },
      "source": [
        "* axis 지정이 없으면 1차원 배열 형태로 변형되어 결합"
      ]
    },
    {
      "cell_type": "code",
      "metadata": {
        "id": "LRltk3yFIVsV",
        "colab": {
          "base_uri": "https://localhost:8080/"
        },
        "outputId": "08065e3c-cf59-425b-e2fe-abd81467823a"
      },
      "source": [
        "c2 = np.append(a2, b2)\r\n",
        "print(c2)"
      ],
      "execution_count": 161,
      "outputs": [
        {
          "output_type": "stream",
          "text": [
            "[ 1  2  3  4  5  6  7  8  9 10 11 12 13 14 15 16 17 18]\n"
          ],
          "name": "stdout"
        }
      ]
    },
    {
      "cell_type": "markdown",
      "metadata": {
        "id": "sVW2UFVZJfpR"
      },
      "source": [
        "* axis를 0으로 지정\n",
        "* shape[0]을 제외한 나머지 shape은 같아야 함"
      ]
    },
    {
      "cell_type": "code",
      "metadata": {
        "id": "nwJ4xLOeIbMg",
        "colab": {
          "base_uri": "https://localhost:8080/"
        },
        "outputId": "eb2a66cc-c559-4d3f-fd31-764605dfa21a"
      },
      "source": [
        "c2 = np.append(a2, b2, axis=0)\r\n",
        "print(c2)"
      ],
      "execution_count": 162,
      "outputs": [
        {
          "output_type": "stream",
          "text": [
            "[[ 1  2  3]\n",
            " [ 4  5  6]\n",
            " [ 7  8  9]\n",
            " [10 11 12]\n",
            " [13 14 15]\n",
            " [16 17 18]]\n"
          ],
          "name": "stdout"
        }
      ]
    },
    {
      "cell_type": "markdown",
      "metadata": {
        "id": "4YXxzygaJmj-"
      },
      "source": [
        "* axis를 1로 지정\n",
        "* shape[1]을 제외한 나머지 shape은 같아야 함"
      ]
    },
    {
      "cell_type": "code",
      "metadata": {
        "id": "JYE4_5gAJmYe",
        "colab": {
          "base_uri": "https://localhost:8080/"
        },
        "outputId": "392dd94f-de0b-4c37-fb9f-d54d88671012"
      },
      "source": [
        "c2 = np.append(a2, b2, axis=1)\r\n",
        "print(c2)"
      ],
      "execution_count": 163,
      "outputs": [
        {
          "output_type": "stream",
          "text": [
            "[[ 1  2  3 10 11 12]\n",
            " [ 4  5  6 13 14 15]\n",
            " [ 7  8  9 16 17 18]]\n"
          ],
          "name": "stdout"
        }
      ]
    },
    {
      "cell_type": "markdown",
      "metadata": {
        "id": "9sTza3b2hoe4"
      },
      "source": [
        "### 배열 연결"
      ]
    },
    {
      "cell_type": "markdown",
      "metadata": {
        "id": "TRun2NPYj8Ct"
      },
      "source": [
        "* `concatenate()`: 튜플이나 배열의 리스트를 인수로 사용해 배열 연결"
      ]
    },
    {
      "cell_type": "code",
      "metadata": {
        "id": "lmEqdPifhrB_",
        "colab": {
          "base_uri": "https://localhost:8080/"
        },
        "outputId": "e8af22af-b032-4e45-8016-2a084e3d53d7"
      },
      "source": [
        "a1 = np.array([1,3,5])\r\n",
        "b1 = np.array([2,4,6])\r\n",
        "np.concatenate([a1,b1])"
      ],
      "execution_count": 164,
      "outputs": [
        {
          "output_type": "execute_result",
          "data": {
            "text/plain": [
              "array([1, 3, 5, 2, 4, 6])"
            ]
          },
          "metadata": {
            "tags": []
          },
          "execution_count": 164
        }
      ]
    },
    {
      "cell_type": "code",
      "metadata": {
        "id": "IkoTNIt2k0tp",
        "colab": {
          "base_uri": "https://localhost:8080/"
        },
        "outputId": "1ae39507-6f65-42f9-c58e-589f0289c0c7"
      },
      "source": [
        "c1 = np.array([7,8,9])\r\n",
        "np.concatenate([a1,b1,c1])"
      ],
      "execution_count": 165,
      "outputs": [
        {
          "output_type": "execute_result",
          "data": {
            "text/plain": [
              "array([1, 3, 5, 2, 4, 6, 7, 8, 9])"
            ]
          },
          "metadata": {
            "tags": []
          },
          "execution_count": 165
        }
      ]
    },
    {
      "cell_type": "code",
      "metadata": {
        "id": "vX0SCYX3lEs2",
        "colab": {
          "base_uri": "https://localhost:8080/"
        },
        "outputId": "5974d98a-8d70-4aa5-9c3e-58f7c8fc2463"
      },
      "source": [
        "a2 = np.array([[1,2,3],\r\n",
        "               [4,5,6]])\r\n",
        "np.concatenate([a2, a2])"
      ],
      "execution_count": 167,
      "outputs": [
        {
          "output_type": "execute_result",
          "data": {
            "text/plain": [
              "array([[1, 2, 3],\n",
              "       [4, 5, 6],\n",
              "       [1, 2, 3],\n",
              "       [4, 5, 6]])"
            ]
          },
          "metadata": {
            "tags": []
          },
          "execution_count": 167
        }
      ]
    },
    {
      "cell_type": "code",
      "metadata": {
        "id": "Rv6xGva7lxHP",
        "colab": {
          "base_uri": "https://localhost:8080/"
        },
        "outputId": "4e50d5c1-ddbf-4dba-e23b-b7ae5bcd8acc"
      },
      "source": [
        "a2 = np.array([[1,2,3],\r\n",
        "               [4,5,6]])\r\n",
        "np.concatenate([a2, a2], axis=1)"
      ],
      "execution_count": 168,
      "outputs": [
        {
          "output_type": "execute_result",
          "data": {
            "text/plain": [
              "array([[1, 2, 3, 1, 2, 3],\n",
              "       [4, 5, 6, 4, 5, 6]])"
            ]
          },
          "metadata": {
            "tags": []
          },
          "execution_count": 168
        }
      ]
    },
    {
      "cell_type": "markdown",
      "metadata": {
        "id": "MbiBbx4nl2KD"
      },
      "source": [
        "* `vstack()`: 수직 스택(vertical stack), 1차원으로 연결"
      ]
    },
    {
      "cell_type": "code",
      "metadata": {
        "id": "HkHJwdBMl_qi",
        "colab": {
          "base_uri": "https://localhost:8080/"
        },
        "outputId": "b948ae05-8c4e-468b-b41d-f3633bee0d3d"
      },
      "source": [
        "np.vstack([a2,a2])"
      ],
      "execution_count": 169,
      "outputs": [
        {
          "output_type": "execute_result",
          "data": {
            "text/plain": [
              "array([[1, 2, 3],\n",
              "       [4, 5, 6],\n",
              "       [1, 2, 3],\n",
              "       [4, 5, 6]])"
            ]
          },
          "metadata": {
            "tags": []
          },
          "execution_count": 169
        }
      ]
    },
    {
      "cell_type": "markdown",
      "metadata": {
        "id": "-hTlAnWxmHA_"
      },
      "source": [
        "* `hstack()`: 수평 스택(horizontal stack), 2차원으로 연결"
      ]
    },
    {
      "cell_type": "code",
      "metadata": {
        "id": "-HsGlAytmNEz",
        "colab": {
          "base_uri": "https://localhost:8080/"
        },
        "outputId": "a43b70d7-5e5d-41fe-b823-19d8d377f12a"
      },
      "source": [
        "np.hstack([a2,a2])"
      ],
      "execution_count": 170,
      "outputs": [
        {
          "output_type": "execute_result",
          "data": {
            "text/plain": [
              "array([[1, 2, 3, 1, 2, 3],\n",
              "       [4, 5, 6, 4, 5, 6]])"
            ]
          },
          "metadata": {
            "tags": []
          },
          "execution_count": 170
        }
      ]
    },
    {
      "cell_type": "markdown",
      "metadata": {
        "id": "CshM6LURmUhV"
      },
      "source": [
        "* `dstack()`: 깊이 스택(depth stack), 3차원으로 연결"
      ]
    },
    {
      "cell_type": "code",
      "metadata": {
        "id": "TFBdRddpmU4m",
        "colab": {
          "base_uri": "https://localhost:8080/"
        },
        "outputId": "24474005-42c1-4ccc-a85b-863bd735eced"
      },
      "source": [
        "np.dstack([a2,a2])"
      ],
      "execution_count": 171,
      "outputs": [
        {
          "output_type": "execute_result",
          "data": {
            "text/plain": [
              "array([[[1, 1],\n",
              "        [2, 2],\n",
              "        [3, 3]],\n",
              "\n",
              "       [[4, 4],\n",
              "        [5, 5],\n",
              "        [6, 6]]])"
            ]
          },
          "metadata": {
            "tags": []
          },
          "execution_count": 171
        }
      ]
    },
    {
      "cell_type": "markdown",
      "metadata": {
        "id": "JUBtc4UnpaSz"
      },
      "source": [
        "* `stack()`: 새로운 차원으로 연결"
      ]
    },
    {
      "cell_type": "code",
      "metadata": {
        "id": "JzoujQ9_pHS5",
        "colab": {
          "base_uri": "https://localhost:8080/"
        },
        "outputId": "6855e07b-5b9f-4b70-e8a4-12992d65884c"
      },
      "source": [
        "np.stack([a2,a2])"
      ],
      "execution_count": 172,
      "outputs": [
        {
          "output_type": "execute_result",
          "data": {
            "text/plain": [
              "array([[[1, 2, 3],\n",
              "        [4, 5, 6]],\n",
              "\n",
              "       [[1, 2, 3],\n",
              "        [4, 5, 6]]])"
            ]
          },
          "metadata": {
            "tags": []
          },
          "execution_count": 172
        }
      ]
    },
    {
      "cell_type": "markdown",
      "metadata": {
        "id": "eYz74NYKo8iH"
      },
      "source": [
        "### 배열 분할"
      ]
    },
    {
      "cell_type": "markdown",
      "metadata": {
        "id": "wjt2zku5pBmF"
      },
      "source": [
        "* `split()`: 배열 분할"
      ]
    },
    {
      "cell_type": "code",
      "metadata": {
        "id": "H_2e71heo-Eq",
        "colab": {
          "base_uri": "https://localhost:8080/"
        },
        "outputId": "6e14f6ce-e466-4c91-d7b9-f5714f33641b"
      },
      "source": [
        "a1 = np.arange(0,10)\r\n",
        "print(a1)\r\n",
        "\r\n",
        "#기준 인덱스에 따라 스플릿 가능\r\n",
        "b1, c1 = np.split(a1, [5])\r\n",
        "print(b1,c1)\r\n",
        "\r\n",
        "b1, c1, d1, e1, f1 = np.split(a1, [2,4,6,8])\r\n",
        "print(b1,c1,d1,e1,f1)"
      ],
      "execution_count": 176,
      "outputs": [
        {
          "output_type": "stream",
          "text": [
            "[0 1 2 3 4 5 6 7 8 9]\n",
            "[0 1 2 3 4] [5 6 7 8 9]\n",
            "[0 1] [2 3] [4 5] [6 7] [8 9]\n"
          ],
          "name": "stdout"
        }
      ]
    },
    {
      "cell_type": "markdown",
      "metadata": {
        "id": "IvvdCQcKsCLn"
      },
      "source": [
        "* `vsplit()`: 수직 분할, 1차원으로 분할"
      ]
    },
    {
      "cell_type": "code",
      "metadata": {
        "id": "GdMYlsiLsCoe",
        "colab": {
          "base_uri": "https://localhost:8080/"
        },
        "outputId": "875e0bc1-12a6-4c24-ed30-9dc8c0e85aa6"
      },
      "source": [
        "a2 = np.arange(1,10).reshape(3,3)\r\n",
        "print(a2)\r\n",
        "b2, c2 = np.vsplit(a2, [2])\r\n",
        "print(b2)\r\n",
        "print(c2)"
      ],
      "execution_count": 178,
      "outputs": [
        {
          "output_type": "stream",
          "text": [
            "[[1 2 3]\n",
            " [4 5 6]\n",
            " [7 8 9]]\n",
            "[[1 2 3]\n",
            " [4 5 6]]\n",
            "[[7 8 9]]\n"
          ],
          "name": "stdout"
        }
      ]
    },
    {
      "cell_type": "markdown",
      "metadata": {
        "id": "1aC0a034rSXi"
      },
      "source": [
        "* `hsplit()`: 수평 분할, 2차원으로 분할"
      ]
    },
    {
      "cell_type": "code",
      "metadata": {
        "id": "ShMnE_bnrSBJ",
        "colab": {
          "base_uri": "https://localhost:8080/"
        },
        "outputId": "51453ae6-4d7b-42ac-e3bb-09df6e7d5291"
      },
      "source": [
        "a2 = np.arange(1,10).reshape(3,3)\r\n",
        "print(a2)\r\n",
        "b2, c2 = np.hsplit(a2, [2])\r\n",
        "print(b2)\r\n",
        "print(c2)"
      ],
      "execution_count": 179,
      "outputs": [
        {
          "output_type": "stream",
          "text": [
            "[[1 2 3]\n",
            " [4 5 6]\n",
            " [7 8 9]]\n",
            "[[1 2]\n",
            " [4 5]\n",
            " [7 8]]\n",
            "[[3]\n",
            " [6]\n",
            " [9]]\n"
          ],
          "name": "stdout"
        }
      ]
    },
    {
      "cell_type": "markdown",
      "metadata": {
        "id": "Pz3BDD8qsQER"
      },
      "source": [
        "* `dsplit()`: 깊이 분할, 3차원으로 분할"
      ]
    },
    {
      "cell_type": "code",
      "metadata": {
        "id": "DqHFGd43sQYj",
        "colab": {
          "base_uri": "https://localhost:8080/"
        },
        "outputId": "f6111c7c-b579-410d-cd4c-27faa1311c31"
      },
      "source": [
        "a3 = np.arange(1,28).reshape(3,3,3)\r\n",
        "print(a3)\r\n",
        "\r\n",
        "b3, c3 = np.dsplit(a3, [2])\r\n",
        "print(b3)\r\n",
        "print(c3)"
      ],
      "execution_count": 182,
      "outputs": [
        {
          "output_type": "stream",
          "text": [
            "[[[ 1  2  3]\n",
            "  [ 4  5  6]\n",
            "  [ 7  8  9]]\n",
            "\n",
            " [[10 11 12]\n",
            "  [13 14 15]\n",
            "  [16 17 18]]\n",
            "\n",
            " [[19 20 21]\n",
            "  [22 23 24]\n",
            "  [25 26 27]]]\n",
            "[[[ 1  2]\n",
            "  [ 4  5]\n",
            "  [ 7  8]]\n",
            "\n",
            " [[10 11]\n",
            "  [13 14]\n",
            "  [16 17]]\n",
            "\n",
            " [[19 20]\n",
            "  [22 23]\n",
            "  [25 26]]]\n",
            "[[[ 3]\n",
            "  [ 6]\n",
            "  [ 9]]\n",
            "\n",
            " [[12]\n",
            "  [15]\n",
            "  [18]]\n",
            "\n",
            " [[21]\n",
            "  [24]\n",
            "  [27]]]\n"
          ],
          "name": "stdout"
        }
      ]
    },
    {
      "cell_type": "markdown",
      "metadata": {
        "id": "rK-zrDZuGoVd"
      },
      "source": [
        "\n",
        "\n",
        "---\n",
        "\n"
      ]
    },
    {
      "cell_type": "markdown",
      "metadata": {
        "id": "Vc-iSWewJ3C1"
      },
      "source": [
        "## 배열 연산\n",
        "\n",
        "* NumPy의 배열 연산은 벡터화(vectorized) 연산을 사용\n",
        "* 일반적으로 NumPy의 범용 함수(universal functions)를 통해 구현\n",
        "* 배열 요소에 대한 반복적인 계산을 효율적으로 수행"
      ]
    },
    {
      "cell_type": "markdown",
      "metadata": {
        "id": "Pg2er1A2w3cz"
      },
      "source": [
        "### 브로드캐스팅(Broadcasting)\r\n",
        "\r\n",
        "* shape이 다르면 맞추고 연산을 해준다"
      ]
    },
    {
      "cell_type": "code",
      "metadata": {
        "id": "IGU-HRgr20nj",
        "colab": {
          "base_uri": "https://localhost:8080/"
        },
        "outputId": "aef440ca-c949-48c0-8deb-c9e897807d93"
      },
      "source": [
        "a1 = np.array([1,2,3])\r\n",
        "print(a1)\r\n",
        "\r\n",
        "print(a1 + 5)"
      ],
      "execution_count": 191,
      "outputs": [
        {
          "output_type": "stream",
          "text": [
            "[1 2 3]\n",
            "[6 7 8]\n"
          ],
          "name": "stdout"
        }
      ]
    },
    {
      "cell_type": "code",
      "metadata": {
        "id": "IAzsmIAn1HNt",
        "colab": {
          "base_uri": "https://localhost:8080/"
        },
        "outputId": "eb62ec7b-ad91-402a-d718-90342cca6148"
      },
      "source": [
        "a2 = np.arange(1,10).reshape(3,3)\r\n",
        "print(a2)\r\n",
        "print(a1+a2)\r\n",
        "\r\n",
        "b2 = np.array([1,2,3]).reshape(3,1)\r\n",
        "print(b2)\r\n",
        "print(a1 + b2)"
      ],
      "execution_count": 194,
      "outputs": [
        {
          "output_type": "stream",
          "text": [
            "[[1 2 3]\n",
            " [4 5 6]\n",
            " [7 8 9]]\n",
            "[[ 2  4  6]\n",
            " [ 5  7  9]\n",
            " [ 8 10 12]]\n",
            "[[1]\n",
            " [2]\n",
            " [3]]\n",
            "[[2 3 4]\n",
            " [3 4 5]\n",
            " [4 5 6]]\n"
          ],
          "name": "stdout"
        }
      ]
    },
    {
      "cell_type": "markdown",
      "metadata": {
        "id": "NZzLHHLmwl_b"
      },
      "source": [
        "### 산술 연산(Arithmetic Operators)"
      ]
    },
    {
      "cell_type": "code",
      "metadata": {
        "id": "jHrIjHGEi05k",
        "colab": {
          "base_uri": "https://localhost:8080/"
        },
        "outputId": "8848822f-9ffe-4f06-9f45-1f008da2769e"
      },
      "source": [
        "a1 = np.arange(1,10)\r\n",
        "print(a1)\r\n",
        "# a1 + 1처럼 연산자를 사용할 수도 있지만 np.add처럼 범용함수를 사용할 수도 있다.\r\n",
        "print(a1 + 1)\r\n",
        "print(np.add(a1, 1))\r\n",
        "\r\n",
        "print(a1 - 2)\r\n",
        "print(np.subtract(a1,2))\r\n",
        "\r\n",
        "print(-a1)\r\n",
        "print(np.negative(a1))\r\n",
        "\r\n",
        "print(a1 * 2)\r\n",
        "print(np.multiply(a1,2))\r\n",
        "\r\n",
        "print(a1 / 2)\r\n",
        "print(np.divide(a1, 2))\r\n",
        "\r\n",
        "print(a1 // 2)\r\n",
        "print(np.floor_divide(a1, 2))\r\n",
        "\r\n",
        "print(a1 ** 2)\r\n",
        "print(np.power(a1, 2))\r\n",
        "\r\n",
        "print(a1 % 2)\r\n",
        "print(np.mod(a1, 2))"
      ],
      "execution_count": 207,
      "outputs": [
        {
          "output_type": "stream",
          "text": [
            "[1 2 3 4 5 6 7 8 9]\n",
            "[ 2  3  4  5  6  7  8  9 10]\n",
            "[ 2  3  4  5  6  7  8  9 10]\n",
            "[-1  0  1  2  3  4  5  6  7]\n",
            "[-1  0  1  2  3  4  5  6  7]\n",
            "[-1 -2 -3 -4 -5 -6 -7 -8 -9]\n",
            "[-1 -2 -3 -4 -5 -6 -7 -8 -9]\n",
            "[ 2  4  6  8 10 12 14 16 18]\n",
            "[ 2  4  6  8 10 12 14 16 18]\n",
            "[0.5 1.  1.5 2.  2.5 3.  3.5 4.  4.5]\n",
            "[0.5 1.  1.5 2.  2.5 3.  3.5 4.  4.5]\n",
            "[0 1 1 2 2 3 3 4 4]\n",
            "[0 1 1 2 2 3 3 4 4]\n",
            "[ 1  4  9 16 25 36 49 64 81]\n",
            "[ 1  4  9 16 25 36 49 64 81]\n",
            "[1 0 1 0 1 0 1 0 1]\n",
            "[1 0 1 0 1 0 1 0 1]\n"
          ],
          "name": "stdout"
        }
      ]
    },
    {
      "cell_type": "code",
      "metadata": {
        "id": "sMUYzXk3psgC",
        "colab": {
          "base_uri": "https://localhost:8080/"
        },
        "outputId": "4e70b132-547a-448a-bdcb-9e1032724a40"
      },
      "source": [
        "a1 = np.arange(1,10)\r\n",
        "print(a1)\r\n",
        "b1 = np.random.randint(1,10,size=9)\r\n",
        "print(b1)\r\n",
        "\r\n",
        "# 배열간 연산 가능\r\n",
        "print(a1 + b1)\r\n",
        "print(a1 - b1)\r\n",
        "print(a1 * b1)\r\n",
        "print(a1 / b1)\r\n",
        "print(a1 // b1)\r\n",
        "print(a1 ** b1)\r\n",
        "print(a1 % b1)"
      ],
      "execution_count": 211,
      "outputs": [
        {
          "output_type": "stream",
          "text": [
            "[1 2 3 4 5 6 7 8 9]\n",
            "[3 3 7 3 7 3 9 6 8]\n",
            "[ 4  5 10  7 12  9 16 14 17]\n",
            "[-2 -1 -4  1 -2  3 -2  2  1]\n",
            "[ 3  6 21 12 35 18 63 48 72]\n",
            "[0.33333333 0.66666667 0.42857143 1.33333333 0.71428571 2.\n",
            " 0.77777778 1.33333333 1.125     ]\n",
            "[0 0 0 1 0 2 0 1 1]\n",
            "[       1        8     2187       64    78125      216 40353607   262144\n",
            " 43046721]\n",
            "[1 2 3 1 5 0 7 2 1]\n"
          ],
          "name": "stdout"
        }
      ]
    },
    {
      "cell_type": "code",
      "metadata": {
        "id": "ZkyjPmk5onPK",
        "colab": {
          "base_uri": "https://localhost:8080/"
        },
        "outputId": "c68baf40-6fd3-487f-c17e-f38e8fb566ae"
      },
      "source": [
        "a2 = np.arange(1,10).reshape(3,3)\r\n",
        "print(a2)\r\n",
        "b2 = np.random.randint(1,10,size=(3,3))\r\n",
        "print(b2)\r\n",
        "\r\n",
        "# 다차원 배열 사이에서도 연산 가능\r\n",
        "print(a2 + b2)\r\n",
        "print(a2 - b2)\r\n",
        "print(a2 * b2)\r\n",
        "print(a2 / b2)\r\n",
        "print(a2 // b2)\r\n",
        "print(a2 ** b2)\r\n",
        "print(a2 % b2)"
      ],
      "execution_count": 212,
      "outputs": [
        {
          "output_type": "stream",
          "text": [
            "[[1 2 3]\n",
            " [4 5 6]\n",
            " [7 8 9]]\n",
            "[[9 3 3]\n",
            " [6 9 2]\n",
            " [1 6 6]]\n",
            "[[10  5  6]\n",
            " [10 14  8]\n",
            " [ 8 14 15]]\n",
            "[[-8 -1  0]\n",
            " [-2 -4  4]\n",
            " [ 6  2  3]]\n",
            "[[ 9  6  9]\n",
            " [24 45 12]\n",
            " [ 7 48 54]]\n",
            "[[0.11111111 0.66666667 1.        ]\n",
            " [0.66666667 0.55555556 3.        ]\n",
            " [7.         1.33333333 1.5       ]]\n",
            "[[0 0 1]\n",
            " [0 0 3]\n",
            " [7 1 1]]\n",
            "[[      1       8      27]\n",
            " [   4096 1953125      36]\n",
            " [      7  262144  531441]]\n",
            "[[1 2 0]\n",
            " [4 5 0]\n",
            " [0 2 3]]\n"
          ],
          "name": "stdout"
        }
      ]
    },
    {
      "cell_type": "markdown",
      "metadata": {
        "id": "hxG_aECas3a9"
      },
      "source": [
        "#### 절대값 함수(Absolute Function)\n",
        "\n",
        "* `absolute()`, `abs()`: 내장된 절대값 함수"
      ]
    },
    {
      "cell_type": "code",
      "metadata": {
        "id": "YmX-0LvWs7qM",
        "colab": {
          "base_uri": "https://localhost:8080/"
        },
        "outputId": "b3ab01b1-34d1-47e5-ed0b-da2a8b87233b"
      },
      "source": [
        "a1 = np.random.randint(-10,10,size=5)\r\n",
        "print(a1)\r\n",
        "\r\n",
        "print(np.absolute(a1))\r\n",
        "print(np.abs(a1))"
      ],
      "execution_count": 214,
      "outputs": [
        {
          "output_type": "stream",
          "text": [
            "[ 4 -9 -1  5 -4]\n",
            "[4 9 1 5 4]\n",
            "[4 9 1 5 4]\n"
          ],
          "name": "stdout"
        }
      ]
    },
    {
      "cell_type": "markdown",
      "metadata": {
        "id": "U5uE3sVtzRvA"
      },
      "source": [
        "#### 제곱/제곱근 함수\n",
        "\n",
        "* `square`, `sqrt`: 제곱, 제곱근 함수"
      ]
    },
    {
      "cell_type": "code",
      "metadata": {
        "id": "ggnIxDGzzTfX",
        "colab": {
          "base_uri": "https://localhost:8080/"
        },
        "outputId": "47485fef-68f9-4412-fe6d-8e6f29a8ddde"
      },
      "source": [
        "print(a1)\r\n",
        "print(np.square(a1))\r\n",
        "print(np.sqrt(a1))"
      ],
      "execution_count": 215,
      "outputs": [
        {
          "output_type": "stream",
          "text": [
            "[ 4 -9 -1  5 -4]\n",
            "[16 81  1 25 16]\n",
            "[2.                nan        nan 2.23606798        nan]\n"
          ],
          "name": "stdout"
        },
        {
          "output_type": "stream",
          "text": [
            "/usr/local/lib/python3.6/dist-packages/ipykernel_launcher.py:3: RuntimeWarning: invalid value encountered in sqrt\n",
            "  This is separate from the ipykernel package so we can avoid doing imports until\n"
          ],
          "name": "stderr"
        }
      ]
    },
    {
      "cell_type": "markdown",
      "metadata": {
        "id": "tWh1aQ50vRhB"
      },
      "source": [
        "#### 지수와 로그 함수 (Exponential and Log Function)"
      ]
    },
    {
      "cell_type": "code",
      "metadata": {
        "id": "Dygt3AyHvTZz",
        "colab": {
          "base_uri": "https://localhost:8080/"
        },
        "outputId": "cc98f2bc-a675-49c0-cab5-63f6333207a4"
      },
      "source": [
        "a1 = np.random.randint(1,10,size=5)\r\n",
        "print(a1)\r\n",
        "print(np.exp(a1))\r\n",
        "print(np.exp2(a1))\r\n",
        "print(np.power(a1,2))"
      ],
      "execution_count": 217,
      "outputs": [
        {
          "output_type": "stream",
          "text": [
            "[2 5 9 6 6]\n",
            "[7.38905610e+00 1.48413159e+02 8.10308393e+03 4.03428793e+02\n",
            " 4.03428793e+02]\n",
            "[  4.  32. 512.  64.  64.]\n",
            "[ 4 25 81 36 36]\n"
          ],
          "name": "stdout"
        }
      ]
    },
    {
      "cell_type": "code",
      "metadata": {
        "id": "YB0BzwxDvnkT",
        "colab": {
          "base_uri": "https://localhost:8080/"
        },
        "outputId": "5c9d1d6e-e489-4d53-abb1-be3a504d8342"
      },
      "source": [
        "print(a1)\r\n",
        "print(np.log(a1))\r\n",
        "print(np.log2(a1))\r\n",
        "print(np.log10(a1))"
      ],
      "execution_count": 219,
      "outputs": [
        {
          "output_type": "stream",
          "text": [
            "[2 5 9 6 6]\n",
            "[0.69314718 1.60943791 2.19722458 1.79175947 1.79175947]\n",
            "[1.         2.32192809 3.169925   2.5849625  2.5849625 ]\n",
            "[0.30103    0.69897    0.95424251 0.77815125 0.77815125]\n"
          ],
          "name": "stdout"
        }
      ]
    },
    {
      "cell_type": "markdown",
      "metadata": {
        "id": "wE_p9AxjtdJ9"
      },
      "source": [
        "#### 삼각 함수(Trigonometrical Function)\n"
      ]
    },
    {
      "cell_type": "code",
      "metadata": {
        "id": "6bOSPS81tuo5",
        "colab": {
          "base_uri": "https://localhost:8080/"
        },
        "outputId": "aea65c74-cabc-43ab-bbd0-5332cd7b5639"
      },
      "source": [
        "t = np.linspace(0,np.pi,3)\r\n",
        "print(t)\r\n",
        "print(np.sin(t))\r\n",
        "print(np.cos(t))\r\n",
        "print(np.tan(t))"
      ],
      "execution_count": 220,
      "outputs": [
        {
          "output_type": "stream",
          "text": [
            "[0.         1.57079633 3.14159265]\n",
            "[0.0000000e+00 1.0000000e+00 1.2246468e-16]\n",
            "[ 1.000000e+00  6.123234e-17 -1.000000e+00]\n",
            "[ 0.00000000e+00  1.63312394e+16 -1.22464680e-16]\n"
          ],
          "name": "stdout"
        }
      ]
    },
    {
      "cell_type": "code",
      "metadata": {
        "id": "v7m-AQW9uJ9u",
        "colab": {
          "base_uri": "https://localhost:8080/"
        },
        "outputId": "5e96786e-9f63-4843-b006-633d78a7f0a2"
      },
      "source": [
        "x = [-1,0,1]\r\n",
        "print(x)\r\n",
        "print(np.arcsin(x))\r\n",
        "print(np.arccos(x))\r\n",
        "print(np.arctan(x))"
      ],
      "execution_count": 221,
      "outputs": [
        {
          "output_type": "stream",
          "text": [
            "[-1, 0, 1]\n",
            "[-1.57079633  0.          1.57079633]\n",
            "[3.14159265 1.57079633 0.        ]\n",
            "[-0.78539816  0.          0.78539816]\n"
          ],
          "name": "stdout"
        }
      ]
    },
    {
      "cell_type": "markdown",
      "metadata": {
        "id": "hKJtYUVWwxQy"
      },
      "source": [
        "### 집계 함수(Aggregate Functions)\r\n",
        "* 집계함수는 숫자만 할 수 있는데 숫자가 아닌 어떤 값이 떴을 때는 에러를 리턴시킨다. NaN안전모드 함수를 사용하면 에러를 리턴하는게 아니라 안전하게 수행되도록 할 수 있다."
      ]
    },
    {
      "cell_type": "markdown",
      "metadata": {
        "id": "GdxMrX5l9m6W"
      },
      "source": [
        "#### sum(): 합 계산\r\n"
      ]
    },
    {
      "cell_type": "code",
      "metadata": {
        "id": "AJQ3GjLI0cZU",
        "colab": {
          "base_uri": "https://localhost:8080/"
        },
        "outputId": "f4707773-eb51-4810-84bd-b419f018d451"
      },
      "source": [
        "a2 = np.random.randint(1,10,size=(3,3))\r\n",
        "print(a2)\r\n",
        "\r\n",
        "print(a2.sum(), np.sum(a2))\r\n",
        "\r\n",
        "#축을 기준으로 합하기\r\n",
        "print(a2.sum(axis=0), np.sum(a2, axis=0))\r\n",
        "print(a2.sum(axis=1), np.sum(a2,axis=1))"
      ],
      "execution_count": 223,
      "outputs": [
        {
          "output_type": "stream",
          "text": [
            "[[4 3 7]\n",
            " [4 2 8]\n",
            " [7 8 2]]\n",
            "45 45\n",
            "[15 13 17] [15 13 17]\n",
            "[14 14 17] [14 14 17]\n"
          ],
          "name": "stdout"
        }
      ]
    },
    {
      "cell_type": "markdown",
      "metadata": {
        "id": "U4W4iIb9J4Zd"
      },
      "source": [
        "#### cumsum(): 누적합 계산"
      ]
    },
    {
      "cell_type": "code",
      "metadata": {
        "id": "SRZWZD3UJ4wo",
        "colab": {
          "base_uri": "https://localhost:8080/"
        },
        "outputId": "deab6d9a-bee5-4a12-f33c-910e4a4fbd53"
      },
      "source": [
        "a2 = np.random.randint(1,10,size=(3,3))\r\n",
        "print(a2)\r\n",
        "\r\n",
        "print(np.cumsum(a2))\r\n",
        "\r\n",
        "#축을 기준으로 누적합하기\r\n",
        "print(np.cumsum(a2, axis=0))\r\n",
        "print(np.cumsum(a2,axis=1))"
      ],
      "execution_count": 225,
      "outputs": [
        {
          "output_type": "stream",
          "text": [
            "[[3 1 7]\n",
            " [1 8 8]\n",
            " [1 1 7]]\n",
            "[ 3  4 11 12 20 28 29 30 37]\n",
            "[[ 3  1  7]\n",
            " [ 4  9 15]\n",
            " [ 5 10 22]]\n",
            "[[ 3  4 11]\n",
            " [ 1  9 17]\n",
            " [ 1  2  9]]\n"
          ],
          "name": "stdout"
        }
      ]
    },
    {
      "cell_type": "markdown",
      "metadata": {
        "id": "pVaJRWQ-LV0f"
      },
      "source": [
        "#### diff(): 차분 계산"
      ]
    },
    {
      "cell_type": "code",
      "metadata": {
        "id": "yKjnWtGVLWJj",
        "colab": {
          "base_uri": "https://localhost:8080/"
        },
        "outputId": "76a9f697-31c8-4c0c-a699-29117ad9576c"
      },
      "source": [
        "a2 = np.random.randint(1,10,size=(3,3))\r\n",
        "print(a2)\r\n",
        "\r\n",
        "print(np.diff(a2))\r\n",
        "\r\n",
        "#축을 기준으로 차분 계산\r\n",
        "print(np.diff(a2, axis=0))\r\n",
        "print(np.diff(a2,axis=1))"
      ],
      "execution_count": 227,
      "outputs": [
        {
          "output_type": "stream",
          "text": [
            "[[8 9 7]\n",
            " [6 3 2]\n",
            " [2 5 3]]\n",
            "[[ 1 -2]\n",
            " [-3 -1]\n",
            " [ 3 -2]]\n",
            "[[-2 -6 -5]\n",
            " [-4  2  1]]\n",
            "[[ 1 -2]\n",
            " [-3 -1]\n",
            " [ 3 -2]]\n"
          ],
          "name": "stdout"
        }
      ]
    },
    {
      "cell_type": "markdown",
      "metadata": {
        "id": "b6I38HfA9vGL"
      },
      "source": [
        "#### prod(): 곱 계산"
      ]
    },
    {
      "cell_type": "code",
      "metadata": {
        "id": "rGPMXGe89y0O",
        "colab": {
          "base_uri": "https://localhost:8080/"
        },
        "outputId": "7410c3d3-4ba0-43ef-e176-118936bd6ae9"
      },
      "source": [
        "a2 = np.random.randint(1,10,size=(3,3))\r\n",
        "print(a2)\r\n",
        "\r\n",
        "print(np.prod(a2))\r\n",
        "\r\n",
        "#축을 기준으로\r\n",
        "print(np.prod(a2, axis=0))\r\n",
        "print(np.prod(a2,axis=1))"
      ],
      "execution_count": 228,
      "outputs": [
        {
          "output_type": "stream",
          "text": [
            "[[6 8 6]\n",
            " [1 2 9]\n",
            " [1 8 1]]\n",
            "41472\n",
            "[  6 128  54]\n",
            "[288  18   8]\n"
          ],
          "name": "stdout"
        }
      ]
    },
    {
      "cell_type": "markdown",
      "metadata": {
        "id": "RwaoVUGcKkkE"
      },
      "source": [
        "#### cumprod(): 누적곱 계산"
      ]
    },
    {
      "cell_type": "code",
      "metadata": {
        "id": "jwYoX9inKk4D",
        "colab": {
          "base_uri": "https://localhost:8080/"
        },
        "outputId": "f600d455-cf00-4695-afb2-86e449e5f11b"
      },
      "source": [
        "a2 = np.random.randint(1,10,size=(3,3))\r\n",
        "print(a2)\r\n",
        "\r\n",
        "print(np.cumprod(a2))\r\n",
        "\r\n",
        "#축을 기준으로\r\n",
        "print(np.cumprod(a2, axis=0))\r\n",
        "print(np.cumprod(a2,axis=1))"
      ],
      "execution_count": 229,
      "outputs": [
        {
          "output_type": "stream",
          "text": [
            "[[9 9 5]\n",
            " [1 5 2]\n",
            " [4 5 4]]\n",
            "[     9     81    405    405   2025   4050  16200  81000 324000]\n",
            "[[  9   9   5]\n",
            " [  9  45  10]\n",
            " [ 36 225  40]]\n",
            "[[  9  81 405]\n",
            " [  1   5  10]\n",
            " [  4  20  80]]\n"
          ],
          "name": "stdout"
        }
      ]
    },
    {
      "cell_type": "markdown",
      "metadata": {
        "id": "_LMAbL9hMV7T"
      },
      "source": [
        "#### dot()/matmul(): 점곱/행렬곱 계산"
      ]
    },
    {
      "cell_type": "code",
      "metadata": {
        "id": "xC6FBzF0MWW1",
        "colab": {
          "base_uri": "https://localhost:8080/"
        },
        "outputId": "981ce804-93eb-4fa0-a5cc-2bf8134b62ac"
      },
      "source": [
        "a2 = np.random.randint(1,10,size=(3,3))\r\n",
        "print(a2)\r\n",
        "\r\n",
        "b2 = np.ones_like(a2)\r\n",
        "print(b2)\r\n",
        "\r\n",
        "print(np.dot(a2,b2))\r\n",
        "print(np.matmul(a2,b2))"
      ],
      "execution_count": 230,
      "outputs": [
        {
          "output_type": "stream",
          "text": [
            "[[7 8 5]\n",
            " [1 3 3]\n",
            " [7 4 9]]\n",
            "[[1 1 1]\n",
            " [1 1 1]\n",
            " [1 1 1]]\n",
            "[[20 20 20]\n",
            " [ 7  7  7]\n",
            " [20 20 20]]\n",
            "[[20 20 20]\n",
            " [ 7  7  7]\n",
            " [20 20 20]]\n"
          ],
          "name": "stdout"
        }
      ]
    },
    {
      "cell_type": "markdown",
      "metadata": {
        "id": "juVk3vnjPu31"
      },
      "source": [
        "#### tensordot(): 텐서곱 계산"
      ]
    },
    {
      "cell_type": "code",
      "metadata": {
        "id": "3LrcLOcjPvNI",
        "colab": {
          "base_uri": "https://localhost:8080/"
        },
        "outputId": "8a966200-52a2-45d0-bc59-9959dca23e31"
      },
      "source": [
        "print(a2)\r\n",
        "print(b2)\r\n",
        "\r\n",
        "print(np.tensordot(a2,b2))\r\n",
        "print(np.tensordot(a2,b2,axes=0))\r\n",
        "print(np.tensordot(a2,b2,axes=1))"
      ],
      "execution_count": 231,
      "outputs": [
        {
          "output_type": "stream",
          "text": [
            "[[7 8 5]\n",
            " [1 3 3]\n",
            " [7 4 9]]\n",
            "[[1 1 1]\n",
            " [1 1 1]\n",
            " [1 1 1]]\n",
            "47\n",
            "[[[[7 7 7]\n",
            "   [7 7 7]\n",
            "   [7 7 7]]\n",
            "\n",
            "  [[8 8 8]\n",
            "   [8 8 8]\n",
            "   [8 8 8]]\n",
            "\n",
            "  [[5 5 5]\n",
            "   [5 5 5]\n",
            "   [5 5 5]]]\n",
            "\n",
            "\n",
            " [[[1 1 1]\n",
            "   [1 1 1]\n",
            "   [1 1 1]]\n",
            "\n",
            "  [[3 3 3]\n",
            "   [3 3 3]\n",
            "   [3 3 3]]\n",
            "\n",
            "  [[3 3 3]\n",
            "   [3 3 3]\n",
            "   [3 3 3]]]\n",
            "\n",
            "\n",
            " [[[7 7 7]\n",
            "   [7 7 7]\n",
            "   [7 7 7]]\n",
            "\n",
            "  [[4 4 4]\n",
            "   [4 4 4]\n",
            "   [4 4 4]]\n",
            "\n",
            "  [[9 9 9]\n",
            "   [9 9 9]\n",
            "   [9 9 9]]]]\n",
            "[[20 20 20]\n",
            " [ 7  7  7]\n",
            " [20 20 20]]\n"
          ],
          "name": "stdout"
        }
      ]
    },
    {
      "cell_type": "markdown",
      "metadata": {
        "id": "UzmZhB5TNRMX"
      },
      "source": [
        "#### cross(): 벡터곱"
      ]
    },
    {
      "cell_type": "code",
      "metadata": {
        "id": "xvT2hy1FNRkU",
        "colab": {
          "base_uri": "https://localhost:8080/"
        },
        "outputId": "dc14992e-6dd0-40a4-a5c5-04620fc541da"
      },
      "source": [
        "x = [1,2,3]\r\n",
        "y = [4,5,6]\r\n",
        "print(np.cross(x,y))"
      ],
      "execution_count": 233,
      "outputs": [
        {
          "output_type": "stream",
          "text": [
            "[-3  6 -3]\n"
          ],
          "name": "stdout"
        }
      ]
    },
    {
      "cell_type": "markdown",
      "metadata": {
        "id": "SJVYmtrSO5YL"
      },
      "source": [
        "#### inner()/outer(): 내적/외적"
      ]
    },
    {
      "cell_type": "code",
      "metadata": {
        "id": "HJpomax7O5s6",
        "colab": {
          "base_uri": "https://localhost:8080/"
        },
        "outputId": "0e97aa0e-91ea-402b-ed92-b428116de6c4"
      },
      "source": [
        "print(a2)\r\n",
        "print(b2)\r\n",
        "print(np.inner(a2,b2))\r\n",
        "print(np.outer(a2,b2))"
      ],
      "execution_count": 234,
      "outputs": [
        {
          "output_type": "stream",
          "text": [
            "[[7 8 5]\n",
            " [1 3 3]\n",
            " [7 4 9]]\n",
            "[[1 1 1]\n",
            " [1 1 1]\n",
            " [1 1 1]]\n",
            "[[20 20 20]\n",
            " [ 7  7  7]\n",
            " [20 20 20]]\n",
            "[[7 7 7 7 7 7 7 7 7]\n",
            " [8 8 8 8 8 8 8 8 8]\n",
            " [5 5 5 5 5 5 5 5 5]\n",
            " [1 1 1 1 1 1 1 1 1]\n",
            " [3 3 3 3 3 3 3 3 3]\n",
            " [3 3 3 3 3 3 3 3 3]\n",
            " [7 7 7 7 7 7 7 7 7]\n",
            " [4 4 4 4 4 4 4 4 4]\n",
            " [9 9 9 9 9 9 9 9 9]]\n"
          ],
          "name": "stdout"
        }
      ]
    },
    {
      "cell_type": "markdown",
      "metadata": {
        "id": "9CIotQgI_RQ-"
      },
      "source": [
        "#### mean(): 평균 계산"
      ]
    },
    {
      "cell_type": "code",
      "metadata": {
        "id": "g96wAEOT_bUk",
        "colab": {
          "base_uri": "https://localhost:8080/"
        },
        "outputId": "7f283219-f679-4fcc-cd2c-8bc68552e78c"
      },
      "source": [
        "print(a2)\r\n",
        "print(np.mean(a2))\r\n",
        "print(np.mean((a2), axis=0))\r\n",
        "print(np.mean((a2), axis=1))"
      ],
      "execution_count": 236,
      "outputs": [
        {
          "output_type": "stream",
          "text": [
            "[[7 8 5]\n",
            " [1 3 3]\n",
            " [7 4 9]]\n",
            "5.222222222222222\n",
            "[5.         5.         5.66666667]\n",
            "[6.66666667 2.33333333 6.66666667]\n"
          ],
          "name": "stdout"
        }
      ]
    },
    {
      "cell_type": "markdown",
      "metadata": {
        "id": "wAG_zijP_Z5o"
      },
      "source": [
        "#### std(): 표준 편차 계산"
      ]
    },
    {
      "cell_type": "code",
      "metadata": {
        "id": "hlpnuyug_TXA",
        "colab": {
          "base_uri": "https://localhost:8080/"
        },
        "outputId": "587e041c-f95a-4215-d9b6-81bac0bb633f"
      },
      "source": [
        "print(a2)\r\n",
        "print(np.std(a2))\r\n",
        "print(np.std((a2), axis=0))\r\n",
        "print(np.std((a2), axis=1))"
      ],
      "execution_count": 237,
      "outputs": [
        {
          "output_type": "stream",
          "text": [
            "[[7 8 5]\n",
            " [1 3 3]\n",
            " [7 4 9]]\n",
            "2.528845928164676\n",
            "[2.82842712 2.1602469  2.49443826]\n",
            "[1.24721913 0.94280904 2.05480467]\n"
          ],
          "name": "stdout"
        }
      ]
    },
    {
      "cell_type": "markdown",
      "metadata": {
        "id": "5FFTCCDaAEhx"
      },
      "source": [
        "#### var(): 분산 계산"
      ]
    },
    {
      "cell_type": "code",
      "metadata": {
        "id": "CRMNkSdzAGZG",
        "colab": {
          "base_uri": "https://localhost:8080/"
        },
        "outputId": "d87fa9d7-6fe6-4d87-f2b0-2c8d23099899"
      },
      "source": [
        "print(a2)\r\n",
        "print(np.var(a2))\r\n",
        "print(np.var((a2), axis=0))\r\n",
        "print(np.var((a2), axis=1))"
      ],
      "execution_count": 238,
      "outputs": [
        {
          "output_type": "stream",
          "text": [
            "[[7 8 5]\n",
            " [1 3 3]\n",
            " [7 4 9]]\n",
            "6.395061728395062\n",
            "[8.         4.66666667 6.22222222]\n",
            "[1.55555556 0.88888889 4.22222222]\n"
          ],
          "name": "stdout"
        }
      ]
    },
    {
      "cell_type": "markdown",
      "metadata": {
        "id": "QFeh-4tmCCrU"
      },
      "source": [
        "#### min(): 최소값"
      ]
    },
    {
      "cell_type": "code",
      "metadata": {
        "id": "SMNCfYBQCEtf",
        "colab": {
          "base_uri": "https://localhost:8080/"
        },
        "outputId": "82dbcc1f-cd7c-4831-e4f5-754fd44c6e2d"
      },
      "source": [
        "print(a2)\r\n",
        "print(np.min(a2))\r\n",
        "print(np.min((a2), axis=0))\r\n",
        "print(np.min((a2), axis=1))"
      ],
      "execution_count": 239,
      "outputs": [
        {
          "output_type": "stream",
          "text": [
            "[[7 8 5]\n",
            " [1 3 3]\n",
            " [7 4 9]]\n",
            "1\n",
            "[1 3 3]\n",
            "[5 1 4]\n"
          ],
          "name": "stdout"
        }
      ]
    },
    {
      "cell_type": "markdown",
      "metadata": {
        "id": "A3n_JBnBJ2bo"
      },
      "source": [
        "#### max(): 최대값"
      ]
    },
    {
      "cell_type": "code",
      "metadata": {
        "id": "FmuOFKGAJ6Pf",
        "colab": {
          "base_uri": "https://localhost:8080/"
        },
        "outputId": "c10b98c6-b333-41ed-c6e0-9f42bb22134d"
      },
      "source": [
        "print(a2)\r\n",
        "print(np.max(a2))\r\n",
        "print(np.max((a2), axis=0))\r\n",
        "print(np.max((a2), axis=1))"
      ],
      "execution_count": 240,
      "outputs": [
        {
          "output_type": "stream",
          "text": [
            "[[7 8 5]\n",
            " [1 3 3]\n",
            " [7 4 9]]\n",
            "9\n",
            "[7 8 9]\n",
            "[8 3 9]\n"
          ],
          "name": "stdout"
        }
      ]
    },
    {
      "cell_type": "markdown",
      "metadata": {
        "id": "PvGOKDP0J_5b"
      },
      "source": [
        "#### argmin(): 최소값 인덱스"
      ]
    },
    {
      "cell_type": "code",
      "metadata": {
        "id": "1ILP7L3yKCqA",
        "colab": {
          "base_uri": "https://localhost:8080/"
        },
        "outputId": "631dee1f-cdcb-4d93-9da1-ade7152fd52d"
      },
      "source": [
        "# 최소값의 인덱스를 구한다\r\n",
        "print(a2)\r\n",
        "print(np.argmin(a2))\r\n",
        "print(np.argmin((a2), axis=0))\r\n",
        "print(np.argmin((a2), axis=1))"
      ],
      "execution_count": 243,
      "outputs": [
        {
          "output_type": "stream",
          "text": [
            "[[7 8 5]\n",
            " [1 3 3]\n",
            " [7 4 9]]\n",
            "3\n",
            "[1 1 1]\n",
            "[2 0 1]\n"
          ],
          "name": "stdout"
        }
      ]
    },
    {
      "cell_type": "markdown",
      "metadata": {
        "id": "23IcSctIKbUa"
      },
      "source": [
        "#### argmax(): 최대값 인덱스"
      ]
    },
    {
      "cell_type": "code",
      "metadata": {
        "id": "2m21cfCFKd-Q",
        "colab": {
          "base_uri": "https://localhost:8080/"
        },
        "outputId": "243c1a2b-2a79-4914-cb24-e3cffe6ff532"
      },
      "source": [
        "# 최대값의 인덱스를 구한다\r\n",
        "print(a2)\r\n",
        "print(np.argmax(a2))\r\n",
        "print(np.argmax((a2), axis=0))\r\n",
        "print(np.argmax((a2), axis=1))"
      ],
      "execution_count": 244,
      "outputs": [
        {
          "output_type": "stream",
          "text": [
            "[[7 8 5]\n",
            " [1 3 3]\n",
            " [7 4 9]]\n",
            "8\n",
            "[0 0 2]\n",
            "[1 1 2]\n"
          ],
          "name": "stdout"
        }
      ]
    },
    {
      "cell_type": "markdown",
      "metadata": {
        "id": "3TjeNFQLKuZb"
      },
      "source": [
        "#### median(): 중앙값"
      ]
    },
    {
      "cell_type": "code",
      "metadata": {
        "id": "kSLN17bpKwv6",
        "colab": {
          "base_uri": "https://localhost:8080/"
        },
        "outputId": "b05d37fb-a5cf-4649-b5b3-9748dc13e7a0"
      },
      "source": [
        "print(a2)\r\n",
        "print(np.median(a2))\r\n",
        "print(np.median((a2), axis=0))\r\n",
        "print(np.median((a2), axis=1))"
      ],
      "execution_count": 245,
      "outputs": [
        {
          "output_type": "stream",
          "text": [
            "[[7 8 5]\n",
            " [1 3 3]\n",
            " [7 4 9]]\n",
            "5.0\n",
            "[7. 4. 5.]\n",
            "[7. 3. 7.]\n"
          ],
          "name": "stdout"
        }
      ]
    },
    {
      "cell_type": "markdown",
      "metadata": {
        "id": "df-Id-nhLs3L"
      },
      "source": [
        "#### percentile(): 백분위 수\n",
        "\n"
      ]
    },
    {
      "cell_type": "code",
      "metadata": {
        "id": "N-TCx9hnLvhK",
        "colab": {
          "base_uri": "https://localhost:8080/"
        },
        "outputId": "367826d0-f3d0-4ce7-ffc3-9fa4249fe147"
      },
      "source": [
        "a1 = np.array([0,1,2,3])\r\n",
        "print(a1)\r\n",
        "print(np.percentile(a1,[0,20,40,60,80,100], interpolation='linear'))\r\n",
        "print(np.percentile(a1,[0,20,40,60,80,100], interpolation='higher'))\r\n",
        "print(np.percentile(a1,[0,20,40,60,80,100], interpolation='lower'))\r\n",
        "print(np.percentile(a1,[0,20,40,60,80,100], interpolation='nearest'))\r\n",
        "print(np.percentile(a1,[0,20,40,60,80,100], interpolation='midpoint'))"
      ],
      "execution_count": 247,
      "outputs": [
        {
          "output_type": "stream",
          "text": [
            "[0 1 2 3]\n",
            "[0.  0.6 1.2 1.8 2.4 3. ]\n",
            "[0 1 2 2 3 3]\n",
            "[0 0 1 1 2 3]\n",
            "[0 1 1 2 2 3]\n",
            "[0.  0.5 1.5 1.5 2.5 3. ]\n"
          ],
          "name": "stdout"
        }
      ]
    },
    {
      "cell_type": "markdown",
      "metadata": {
        "id": "x0NnNsvvNDIs"
      },
      "source": [
        "#### any()"
      ]
    },
    {
      "cell_type": "code",
      "metadata": {
        "id": "I1XDqsFxOMvA",
        "colab": {
          "base_uri": "https://localhost:8080/"
        },
        "outputId": "85333bf6-f04b-450b-dada-4f6b02f7b966"
      },
      "source": [
        "# 하나라도 True면 True\r\n",
        "a2 = np.array([[False, False, False],\r\n",
        "               [False, True, True],\r\n",
        "               [False, True, True]])\r\n",
        "\r\n",
        "print(a2)\r\n",
        "print(np.any(a2))\r\n",
        "print(np.any(a2, axis=0))\r\n",
        "print(np.any(a2, axis=1))"
      ],
      "execution_count": 248,
      "outputs": [
        {
          "output_type": "stream",
          "text": [
            "[[False False False]\n",
            " [False  True  True]\n",
            " [False  True  True]]\n",
            "True\n",
            "[False  True  True]\n",
            "[False  True  True]\n"
          ],
          "name": "stdout"
        }
      ]
    },
    {
      "cell_type": "markdown",
      "metadata": {
        "id": "Uw-wjYgyONBZ"
      },
      "source": [
        "#### all()"
      ]
    },
    {
      "cell_type": "code",
      "metadata": {
        "id": "sXi2AHOHONYq",
        "colab": {
          "base_uri": "https://localhost:8080/"
        },
        "outputId": "a0c0c804-4514-46ac-8a15-019dc73e4b5e"
      },
      "source": [
        "#모두 True여야 True\r\n",
        "a2 = np.array([[False, False, True],\r\n",
        "               [True, True, True],\r\n",
        "               [False, True, True]])\r\n",
        "\r\n",
        "print(a2)\r\n",
        "print(np.all(a2))\r\n",
        "print(np.all(a2, axis=0))\r\n",
        "print(np.all(a2, axis=1))"
      ],
      "execution_count": 250,
      "outputs": [
        {
          "output_type": "stream",
          "text": [
            "[[False False  True]\n",
            " [ True  True  True]\n",
            " [False  True  True]]\n",
            "False\n",
            "[False False  True]\n",
            "[False  True False]\n"
          ],
          "name": "stdout"
        }
      ]
    },
    {
      "cell_type": "markdown",
      "metadata": {
        "id": "0n7lgzmUwqr1"
      },
      "source": [
        "### 비교 연산(Comparison Operators)\n"
      ]
    },
    {
      "cell_type": "code",
      "metadata": {
        "id": "E00V-nBTVnCu",
        "colab": {
          "base_uri": "https://localhost:8080/"
        },
        "outputId": "c7916af1-0150-4db0-aa08-55418018b4bc"
      },
      "source": [
        "# 연산자, 범용함수 둘 다 제공\r\n",
        "a1 = np.arange(1,10)\r\n",
        "print(a1)\r\n",
        "\r\n",
        "print(a1 == 5) # 브로드캐스팅 지원\r\n",
        "print(a1 != 5)\r\n",
        "print(a1 < 5)\r\n",
        "print(a1 <= 5)\r\n",
        "print(a1 > 5)\r\n",
        "print(a1 >= 5)"
      ],
      "execution_count": 252,
      "outputs": [
        {
          "output_type": "stream",
          "text": [
            "[1 2 3 4 5 6 7 8 9]\n",
            "[False False False False  True False False False False]\n",
            "[ True  True  True  True False  True  True  True  True]\n",
            "[ True  True  True  True False False False False False]\n",
            "[ True  True  True  True  True False False False False]\n",
            "[False False False False False  True  True  True  True]\n",
            "[False False False False  True  True  True  True  True]\n"
          ],
          "name": "stdout"
        }
      ]
    },
    {
      "cell_type": "code",
      "metadata": {
        "id": "3MwV1CU1WsWS",
        "colab": {
          "base_uri": "https://localhost:8080/"
        },
        "outputId": "4f61f4c3-d10f-4981-cdda-3c5f5d8f6b34"
      },
      "source": [
        "a2 = np.arange(1,10).reshape(3,3)\r\n",
        "print(a2)\r\n",
        "print(np.sum(a2))\r\n",
        "\r\n",
        "print(np.count_nonzero(a2 > 5)) # 5보다 큰 요소의 갯수\r\n",
        "\r\n",
        "# 집계 함수에도 응용가능\r\n",
        "print(np.sum(a2 > 5)) # 5보다 큰 요소의 갯수\r\n",
        "print(np.sum(a2 > 5, axis=0))\r\n",
        "print(np.sum(a2 > 5, axis=1))\r\n",
        "\r\n",
        "print(np.any(a2 > 5)) # 하나라도 5보다 크면 True\r\n",
        "print(np.any(a2 > 5, axis=0))\r\n",
        "print(np.any(a2 > 5, axis=1))\r\n",
        "\r\n",
        "print(np.all(a2 > 5)) # 모두 5보다 크면 True\r\n",
        "print(np.all(a2 > 5, axis=0))\r\n",
        "print(np.all(a2 > 5, axis=1))"
      ],
      "execution_count": 259,
      "outputs": [
        {
          "output_type": "stream",
          "text": [
            "[[1 2 3]\n",
            " [4 5 6]\n",
            " [7 8 9]]\n",
            "45\n",
            "4\n",
            "4\n",
            "[1 1 2]\n",
            "[0 1 3]\n",
            "True\n",
            "[ True  True  True]\n",
            "[False  True  True]\n",
            "False\n",
            "[False False False]\n",
            "[False False  True]\n"
          ],
          "name": "stdout"
        }
      ]
    },
    {
      "cell_type": "code",
      "metadata": {
        "id": "D4cuMoyEPn8R",
        "colab": {
          "base_uri": "https://localhost:8080/"
        },
        "outputId": "10804e67-8de5-4dad-fbca-d654d0bf728f"
      },
      "source": [
        "# 비교 범용 함수\r\n",
        "a1 = np.array([1,2,3,4,5])\r\n",
        "print(a1)\r\n",
        "b1 = np.array([1,2,3,3,4])\r\n",
        "print(b1)\r\n",
        "\r\n",
        "print(np.isclose(a1,b1)) # 가까이에 있는지"
      ],
      "execution_count": 261,
      "outputs": [
        {
          "output_type": "stream",
          "text": [
            "[1 2 3 4 5]\n",
            "[1 2 3 3 4]\n",
            "[ True  True  True False False]\n"
          ],
          "name": "stdout"
        }
      ]
    },
    {
      "cell_type": "code",
      "metadata": {
        "id": "af9VSc6FyMBh",
        "colab": {
          "base_uri": "https://localhost:8080/"
        },
        "outputId": "1e1f407f-ae38-4462-a9d4-cabd0edd8783"
      },
      "source": [
        "a1 = np.array([np.nan, 2, np.inf, 4, np.NINF])\r\n",
        "print(a1)\r\n",
        "\r\n",
        "print(np.isnan(a1)) # not a number인지\r\n",
        "print(np.isinf(a1)) # 배열이 inf면 True\r\n",
        "print(np.isfinite(a1)) # 배열이 inf, nan이면 False, 아니면 True"
      ],
      "execution_count": 266,
      "outputs": [
        {
          "output_type": "stream",
          "text": [
            "[ nan   2.  inf   4. -inf]\n",
            "[ True False False False False]\n",
            "[False False  True False  True]\n",
            "[False  True False  True False]\n"
          ],
          "name": "stdout"
        }
      ]
    },
    {
      "cell_type": "markdown",
      "metadata": {
        "id": "4BHMetMlYmt-"
      },
      "source": [
        "#### 불리언 연산자(Boolean Operators)\n"
      ]
    },
    {
      "cell_type": "code",
      "metadata": {
        "id": "ZV1-8DkUHOZq",
        "colab": {
          "base_uri": "https://localhost:8080/"
        },
        "outputId": "1cf70e15-3575-476f-92d2-b1ccffbc3218"
      },
      "source": [
        "a2 = np.arange(1,10).reshape(3,3)\r\n",
        "print(a2)\r\n",
        "\r\n",
        "print((a2 > 5) & (a2 < 8)) # and\r\n",
        "print(a2[(a2 > 5) & (a2 < 8)]) # 불리언 인덱싱\r\n",
        "\r\n",
        "print((a2 > 5) | (a2 < 8)) # or\r\n",
        "print(a2[(a2 > 5) | (a2 < 8)]) # 불리언 인덱싱\r\n",
        "\r\n",
        "print((a2 > 5) ^ (a2 < 8)) # xor\r\n",
        "print(a2[(a2 > 5) ^ (a2 < 8)]) # 불리언 인덱싱\r\n",
        "\r\n",
        "print(~(a2 > 5)) # not\r\n",
        "print(a2[~(a2 > 5)]) # 불리언 인덱싱"
      ],
      "execution_count": 272,
      "outputs": [
        {
          "output_type": "stream",
          "text": [
            "[[1 2 3]\n",
            " [4 5 6]\n",
            " [7 8 9]]\n",
            "[[False False False]\n",
            " [False False  True]\n",
            " [ True False False]]\n",
            "[6 7]\n",
            "[[ True  True  True]\n",
            " [ True  True  True]\n",
            " [ True  True  True]]\n",
            "[1 2 3 4 5 6 7 8 9]\n",
            "[[ True  True  True]\n",
            " [ True  True False]\n",
            " [False  True  True]]\n",
            "[1 2 3 4 5 8 9]\n",
            "[[ True  True  True]\n",
            " [ True  True False]\n",
            " [False False False]]\n",
            "[1 2 3 4 5]\n"
          ],
          "name": "stdout"
        }
      ]
    },
    {
      "cell_type": "markdown",
      "metadata": {
        "id": "FlQJVeGBxIFw"
      },
      "source": [
        "### 배열 정렬"
      ]
    },
    {
      "cell_type": "code",
      "metadata": {
        "id": "x0sodUMqLU37",
        "colab": {
          "base_uri": "https://localhost:8080/"
        },
        "outputId": "dd8884f5-9f1a-4e71-80c6-3013303acaee"
      },
      "source": [
        "a1 = np.random.randint(1,10,size=10)\r\n",
        "print(a1)\r\n",
        "\r\n",
        "print(np.sort(a1))\r\n",
        "print(np.argsort(a1)) # arg가 붙으면 index 출력임\r\n",
        "\r\n",
        "print(a1)\r\n",
        "a1.sort() # 정렬을 바로 적용하려면 a1.sort()\r\n",
        "print(a1)"
      ],
      "execution_count": 276,
      "outputs": [
        {
          "output_type": "stream",
          "text": [
            "[1 1 1 6 6 2 3 3 7 5]\n",
            "[1 1 1 2 3 3 5 6 6 7]\n",
            "[0 1 2 5 6 7 9 3 4 8]\n",
            "[1 1 1 6 6 2 3 3 7 5]\n",
            "[1 1 1 2 3 3 5 6 6 7]\n"
          ],
          "name": "stdout"
        }
      ]
    },
    {
      "cell_type": "code",
      "metadata": {
        "id": "FO_sO5POzeMp",
        "colab": {
          "base_uri": "https://localhost:8080/"
        },
        "outputId": "2cde0976-2202-4a65-b555-6fbd1fda7803"
      },
      "source": [
        "a2 = np.random.randint(1,10,size=(3,3))\r\n",
        "print(a2)\r\n",
        "\r\n",
        "print(np.sort(a2, axis=0))\r\n",
        "print(np.sort(a2, axis=1))"
      ],
      "execution_count": 277,
      "outputs": [
        {
          "output_type": "stream",
          "text": [
            "[[6 1 2]\n",
            " [6 5 2]\n",
            " [3 3 9]]\n",
            "[[3 1 2]\n",
            " [6 3 2]\n",
            " [6 5 9]]\n",
            "[[1 2 6]\n",
            " [2 5 6]\n",
            " [3 3 9]]\n"
          ],
          "name": "stdout"
        }
      ]
    },
    {
      "cell_type": "markdown",
      "metadata": {
        "id": "yYSItPz_00sZ"
      },
      "source": [
        "#### 부분 정렬\n",
        "\n",
        "* `partition()`: 배열에서 k개의 작은 값을 반환"
      ]
    },
    {
      "cell_type": "code",
      "metadata": {
        "id": "QQwov4N00YFP",
        "colab": {
          "base_uri": "https://localhost:8080/"
        },
        "outputId": "86cd3860-0963-4bdc-ce4a-23e34d42a5ba"
      },
      "source": [
        "a1 = np.random.randint(1,10,size=10)\r\n",
        "print(a1)\r\n",
        "print(np.partition(a1,3))"
      ],
      "execution_count": 279,
      "outputs": [
        {
          "output_type": "stream",
          "text": [
            "[9 3 4 3 7 5 8 6 8 9]\n",
            "[3 3 4 5 6 7 8 8 9 9]\n"
          ],
          "name": "stdout"
        }
      ]
    },
    {
      "cell_type": "code",
      "metadata": {
        "colab": {
          "base_uri": "https://localhost:8080/"
        },
        "id": "bqW_9Va_7-GG",
        "outputId": "b3335744-5afd-4b09-b13d-8f60e3257889"
      },
      "source": [
        "a2 = np.random.randint(1,10,size=(5,5))\r\n",
        "print(a2)\r\n",
        "print(np.partition(a2,3))\r\n",
        "print(np.partition(a2,3,axis=0))\r\n",
        "print(np.partition(a2,3,axis=1))"
      ],
      "execution_count": 281,
      "outputs": [
        {
          "output_type": "stream",
          "text": [
            "[[9 9 1 7 8]\n",
            " [6 9 7 7 1]\n",
            " [7 9 8 5 8]\n",
            " [7 3 2 3 6]\n",
            " [7 1 5 1 5]]\n",
            "[[7 1 8 9 9]\n",
            " [1 6 7 7 9]\n",
            " [5 7 8 8 9]\n",
            " [3 2 3 6 7]\n",
            " [1 5 1 5 7]]\n",
            "[[6 3 2 3 6]\n",
            " [7 1 1 1 5]\n",
            " [7 9 5 5 1]\n",
            " [7 9 7 7 8]\n",
            " [9 9 8 7 8]]\n",
            "[[7 1 8 9 9]\n",
            " [1 6 7 7 9]\n",
            " [5 7 8 8 9]\n",
            " [3 2 3 6 7]\n",
            " [1 5 1 5 7]]\n"
          ],
          "name": "stdout"
        }
      ]
    },
    {
      "cell_type": "markdown",
      "metadata": {
        "id": "77DSA72ML5cI"
      },
      "source": [
        "## 배열 입출력\n",
        "* 배열을 파일로 저장할 수 있음\n"
      ]
    },
    {
      "cell_type": "code",
      "metadata": {
        "id": "da-Mm_gzIs7U",
        "colab": {
          "base_uri": "https://localhost:8080/"
        },
        "outputId": "fb49a596-955f-4520-81b4-fe23854dcd36"
      },
      "source": [
        "a2 = np.random.randint(1,10,size=(5,5))\r\n",
        "print(a2)\r\n",
        "\r\n",
        "np.save(\"a\", a2) # a라는 이름으로 파일을 저장"
      ],
      "execution_count": 282,
      "outputs": [
        {
          "output_type": "stream",
          "text": [
            "[[1 7 2 1 8]\n",
            " [5 3 4 6 4]\n",
            " [5 7 1 3 9]\n",
            " [7 2 6 6 9]\n",
            " [5 3 6 6 5]]\n"
          ],
          "name": "stdout"
        }
      ]
    },
    {
      "cell_type": "code",
      "metadata": {
        "id": "pFOWyDvAsf11",
        "colab": {
          "base_uri": "https://localhost:8080/"
        },
        "outputId": "212c835c-b049-47c9-cbab-cbaa73a74eb5"
      },
      "source": [
        "!ls # a.npy라는 바이너리 파일이 저장되었음을 확인할 수 있음"
      ],
      "execution_count": 283,
      "outputs": [
        {
          "output_type": "stream",
          "text": [
            "a.npy  sample_data\n"
          ],
          "name": "stdout"
        }
      ]
    },
    {
      "cell_type": "code",
      "metadata": {
        "id": "Hvb_ilyisoIV",
        "colab": {
          "base_uri": "https://localhost:8080/"
        },
        "outputId": "b4e5d59a-9c07-4df0-9a2f-6a7f35ee977e"
      },
      "source": [
        "b2 = np.random.randint(1,10,size=(5,5))\r\n",
        "print(b2)\r\n",
        "\r\n",
        "np.savez(\"ab\", a2,b2) # 2개의 배열을 하나의 파일로 저장"
      ],
      "execution_count": 284,
      "outputs": [
        {
          "output_type": "stream",
          "text": [
            "[[9 2 1 8 2]\n",
            " [7 6 6 5 6]\n",
            " [9 6 6 5 7]\n",
            " [7 4 8 6 8]\n",
            " [1 6 9 3 4]]\n"
          ],
          "name": "stdout"
        }
      ]
    },
    {
      "cell_type": "code",
      "metadata": {
        "id": "ArWZfL31s1wU",
        "colab": {
          "base_uri": "https://localhost:8080/"
        },
        "outputId": "a7c5f46e-eb90-4e7f-bc6d-13f657322df2"
      },
      "source": [
        "!ls"
      ],
      "execution_count": 285,
      "outputs": [
        {
          "output_type": "stream",
          "text": [
            "ab.npz\ta.npy  sample_data\n"
          ],
          "name": "stdout"
        }
      ]
    },
    {
      "cell_type": "code",
      "metadata": {
        "id": "che4cEJEs2Tr",
        "colab": {
          "base_uri": "https://localhost:8080/"
        },
        "outputId": "401cbb76-c1e4-4b2b-c843-343b52054eaf"
      },
      "source": [
        "npy = np.load(\"a.npy\") # 파일을 불러와줘\r\n",
        "print(npy)"
      ],
      "execution_count": 286,
      "outputs": [
        {
          "output_type": "stream",
          "text": [
            "[[1 7 2 1 8]\n",
            " [5 3 4 6 4]\n",
            " [5 7 1 3 9]\n",
            " [7 2 6 6 9]\n",
            " [5 3 6 6 5]]\n"
          ],
          "name": "stdout"
        }
      ]
    },
    {
      "cell_type": "code",
      "metadata": {
        "id": "X2yIUsYvtMj6",
        "colab": {
          "base_uri": "https://localhost:8080/"
        },
        "outputId": "c60e3724-0dd8-43c0-fd90-00bd0a156ef4"
      },
      "source": [
        "npz = np.load(\"ab.npz\")\r\n",
        "print(npz.files)\r\n",
        "\r\n",
        "print(npz['arr_0'])\r\n",
        "print(npz['arr_1'])"
      ],
      "execution_count": 288,
      "outputs": [
        {
          "output_type": "stream",
          "text": [
            "['arr_0', 'arr_1']\n",
            "[[1 7 2 1 8]\n",
            " [5 3 4 6 4]\n",
            " [5 7 1 3 9]\n",
            " [7 2 6 6 9]\n",
            " [5 3 6 6 5]]\n",
            "[[9 2 1 8 2]\n",
            " [7 6 6 5 6]\n",
            " [9 6 6 5 7]\n",
            " [7 4 8 6 8]\n",
            " [1 6 9 3 4]]\n"
          ],
          "name": "stdout"
        }
      ]
    },
    {
      "cell_type": "code",
      "metadata": {
        "id": "Yj5ec-CYtaH1",
        "colab": {
          "base_uri": "https://localhost:8080/"
        },
        "outputId": "bbed0f6c-30b5-4ced-a892-123a85d76d27"
      },
      "source": [
        "print(a2)\r\n",
        "\r\n",
        "#바이너리 파일이 아니라 텍스트로 저장하고 싶다면\r\n",
        "np.savetxt(\"a.csv\", a2, delimiter=',') # 사람이 읽을 수 있는 여러 파일 단위 중 csv 사용"
      ],
      "execution_count": 289,
      "outputs": [
        {
          "output_type": "stream",
          "text": [
            "[[1 7 2 1 8]\n",
            " [5 3 4 6 4]\n",
            " [5 7 1 3 9]\n",
            " [7 2 6 6 9]\n",
            " [5 3 6 6 5]]\n"
          ],
          "name": "stdout"
        }
      ]
    },
    {
      "cell_type": "code",
      "metadata": {
        "id": "_NIDrc-VuPmv",
        "colab": {
          "base_uri": "https://localhost:8080/"
        },
        "outputId": "6164a492-ebb0-4263-b90a-fdbc2d78694b"
      },
      "source": [
        "!ls"
      ],
      "execution_count": 290,
      "outputs": [
        {
          "output_type": "stream",
          "text": [
            "ab.npz\ta.csv  a.npy  sample_data\n"
          ],
          "name": "stdout"
        }
      ]
    },
    {
      "cell_type": "code",
      "metadata": {
        "id": "bPhmIoVBuQMf",
        "colab": {
          "base_uri": "https://localhost:8080/"
        },
        "outputId": "ffa82467-3e58-4ec5-f447-5d81fe4db9db"
      },
      "source": [
        "!cat a.csv"
      ],
      "execution_count": 291,
      "outputs": [
        {
          "output_type": "stream",
          "text": [
            "1.000000000000000000e+00,7.000000000000000000e+00,2.000000000000000000e+00,1.000000000000000000e+00,8.000000000000000000e+00\n",
            "5.000000000000000000e+00,3.000000000000000000e+00,4.000000000000000000e+00,6.000000000000000000e+00,4.000000000000000000e+00\n",
            "5.000000000000000000e+00,7.000000000000000000e+00,1.000000000000000000e+00,3.000000000000000000e+00,9.000000000000000000e+00\n",
            "7.000000000000000000e+00,2.000000000000000000e+00,6.000000000000000000e+00,6.000000000000000000e+00,9.000000000000000000e+00\n",
            "5.000000000000000000e+00,3.000000000000000000e+00,6.000000000000000000e+00,6.000000000000000000e+00,5.000000000000000000e+00\n"
          ],
          "name": "stdout"
        }
      ]
    },
    {
      "cell_type": "code",
      "metadata": {
        "id": "FeB2p4azuTDv",
        "colab": {
          "base_uri": "https://localhost:8080/"
        },
        "outputId": "2da317e8-4745-42f1-f33b-a5718fc7637c"
      },
      "source": [
        "csv = np.loadtxt(\"a.csv\", delimiter=',') # 저장, 불러올 때 구분자 delimiter 주의\r\n",
        "print(csv)"
      ],
      "execution_count": 292,
      "outputs": [
        {
          "output_type": "stream",
          "text": [
            "[[1. 7. 2. 1. 8.]\n",
            " [5. 3. 4. 6. 4.]\n",
            " [5. 7. 1. 3. 9.]\n",
            " [7. 2. 6. 6. 9.]\n",
            " [5. 3. 6. 6. 5.]]\n"
          ],
          "name": "stdout"
        }
      ]
    },
    {
      "cell_type": "code",
      "metadata": {
        "id": "IUg8Vg4fuxR5",
        "colab": {
          "base_uri": "https://localhost:8080/"
        },
        "outputId": "6d2dd5d7-69e5-4948-c283-a83a2a4c26e8"
      },
      "source": [
        "print(b2)\r\n",
        "np.savetxt(\"b.csv\", b2, delimiter=',', fmt='%.2e', header='c1,c2,c3,c4,c5') # format형태는 소숫점 2자리까지만, header는 c1,c..c5로 지정"
      ],
      "execution_count": 293,
      "outputs": [
        {
          "output_type": "stream",
          "text": [
            "[[9 2 1 8 2]\n",
            " [7 6 6 5 6]\n",
            " [9 6 6 5 7]\n",
            " [7 4 8 6 8]\n",
            " [1 6 9 3 4]]\n"
          ],
          "name": "stdout"
        }
      ]
    },
    {
      "cell_type": "code",
      "metadata": {
        "id": "lIK5dSv6vtm2",
        "colab": {
          "base_uri": "https://localhost:8080/"
        },
        "outputId": "e54e711a-df2e-4c9f-a39a-a1e22c3d351c"
      },
      "source": [
        "!cat b.csv"
      ],
      "execution_count": 295,
      "outputs": [
        {
          "output_type": "stream",
          "text": [
            "# c1,c2,c3,c4,c5\n",
            "9.00e+00,2.00e+00,1.00e+00,8.00e+00,2.00e+00\n",
            "7.00e+00,6.00e+00,6.00e+00,5.00e+00,6.00e+00\n",
            "9.00e+00,6.00e+00,6.00e+00,5.00e+00,7.00e+00\n",
            "7.00e+00,4.00e+00,8.00e+00,6.00e+00,8.00e+00\n",
            "1.00e+00,6.00e+00,9.00e+00,3.00e+00,4.00e+00\n"
          ],
          "name": "stdout"
        }
      ]
    },
    {
      "cell_type": "code",
      "metadata": {
        "id": "l4O-gVxdv8-d",
        "colab": {
          "base_uri": "https://localhost:8080/"
        },
        "outputId": "667446ad-2fbf-4312-f506-82c9f27965f5"
      },
      "source": [
        "csv = np.loadtxt(\"b.csv\", delimiter=',')\r\n",
        "print(csv)"
      ],
      "execution_count": 296,
      "outputs": [
        {
          "output_type": "stream",
          "text": [
            "[[9. 2. 1. 8. 2.]\n",
            " [7. 6. 6. 5. 6.]\n",
            " [9. 6. 6. 5. 7.]\n",
            " [7. 4. 8. 6. 8.]\n",
            " [1. 6. 9. 3. 4.]]\n"
          ],
          "name": "stdout"
        }
      ]
    },
    {
      "cell_type": "markdown",
      "metadata": {
        "id": "JM2Ghx2NGloN"
      },
      "source": [
        "\n",
        "\n",
        "---\n",
        "\n"
      ]
    }
  ]
}